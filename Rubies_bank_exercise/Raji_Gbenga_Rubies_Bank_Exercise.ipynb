{
 "cells": [
  {
   "cell_type": "code",
   "execution_count": 1,
   "metadata": {},
   "outputs": [],
   "source": [
    "\"\"\" \n",
    "      intialized the list of customers details \n",
    "      and also include a new key \"Transaction_History\",\n",
    "      which value is a list that store the transactions.\n",
    "\"\"\"\n",
    "\n",
    "customers = [\n",
    "              {\"Customer_name\": \"Chinua Achebe\", \"Account_Balance\": 5000.00, \"Password\": \"firetrees\", \"Account_Number\": \"1002345678\", \"Transaction_History\": [\"Opening_Bal 5000\"]},\n",
    "              {\"Customer_name\": \"Wole Soyinka\", \"Account_Balance\": 2500.75, \"Password\": \"kongiharvest\", \"Account_Number\": \"2005678910\", \"Transaction_History\": [\"Opening_Bal 2500.75\"]}, \n",
    "              {\"Customer_name\": \"Chimamanda Ngozi Adichie\", \"Account_Balance\": 3871.25, \"Password\": \"halfofayellowsun\", \"Account_Number\": \"3008912345\", \"Transaction_History\": [\"Opening_Bal 3871.25\"]}, \n",
    "              {\"Customer_name\": \"Ahamefula Achebe\", \"Account_Balance\": 1298.50, \"Password\": \"thingsfall\", \"Account_Number\": \"4001234567\", \"Transaction_History\": [\"Opening_Bal 1298.5\"]}, \n",
    "              {\"Customer_name\": \"Ngozi Okonjo-Iweala\", \"Account_Balance\": 7542.00, \"Password\": \"okonjonomics\", \"Account_Number\": \"5004567890\", \"Transaction_History\": [\"Opening_Bal 7542\"]}, \n",
    "              {\"Customer_name\": \"Ben Okri\", \"Account_Balance\": 987.65, \"Password\": \"invisiblecity\", \"Account_Number\": \"6007890123\", \"Transaction_History\": [\"Opening_Bal 987.65\"]}, \n",
    "              {\"Customer_name\": \"Adichie Ozumba\", \"Account_Balance\": 2154.90, \"Password\": \"purplehibiscus\", \"Account_Number\": \"7001123456\", \"Transaction_History\": [\"Opening_Bal 2154.9\"]}, \n",
    "              {\"Customer_name\": \"Fela Kuti\", \"Account_Balance\": 4328.10, \"Password\": \"afrobeat\", \"Account_Number\": \"8004456789\", \"Transaction_History\": [\"Opening_Bal 4328.1\"]}, \n",
    "              {\"Customer_name\": \"John Amaechi\", \"Account_Balance\": 6789.50, \"Password\": \"celtics\", \"Account_Number\": \"9007789012\", \"Transaction_History\": [\"Opening_Bal 6789.5\"]},\n",
    "              {\"Customer_name\": \"Asa\", \"Account_Balance\": 1592.35, \"Password\": \"jata\", \"Account_Number\": \"1001012345\", \"Transaction_History\": [\"Opening_Bal 1592.35\"]}\n",
    "              ]"
   ]
  },
  {
   "cell_type": "code",
   "execution_count": 2,
   "metadata": {},
   "outputs": [],
   "source": [
    "def check_balance(account_number, password):\n",
    "    \"\"\"\n",
    "    This function returns the account balance of the customer\n",
    "\n",
    "    Parameters:\n",
    "    account_number (str): Account number of customer\n",
    "    password (str): Password of customer\n",
    "\n",
    "    Returns:\n",
    "    reply (str): Account balance of customer or error message\n",
    "    \"\"\"\n",
    "    reply = \"\"  # Initialize the response string\n",
    "\n",
    "    # Loop through all customers to find the matching account number\n",
    "    for customer in customers:\n",
    "        name = customer[\"Customer_name\"]\n",
    "\n",
    "        # Check if this is the right customer based on account number\n",
    "        if customer[\"Account_Number\"] == account_number:\n",
    "            print(f\"\\nDear {name} \")\n",
    "            # If account number matches, verify password\n",
    "            if customer[\"Password\"] == password:\n",
    "                # If password matches, return account balance\n",
    "                reply = \"Account Balance is \" + str(customer[\"Account_Balance\"])\n",
    "            else:\n",
    "                # If password is incorrect\n",
    "                reply = \"Password Incorrect: Kindly confirm the entered password\"\n",
    "            break  # Exit loop once account is found\n",
    "        else:\n",
    "            # If account number is not found\n",
    "            reply = \"Account not Found: Kindly Confirm Account Number\"\n",
    "\n",
    "    return reply\n",
    "\n",
    "\n",
    "def withdraw_cash(account_number, password, amount):\n",
    "    \"\"\"\n",
    "    This function allows a customer to withdraw a specified amount\n",
    "\n",
    "    Parameters:\n",
    "    account_number (str): Account number of customer\n",
    "    password (str): Password of customer\n",
    "    amount (float): Amount to withdraw\n",
    "\n",
    "    Returns:\n",
    "    reply (str): Withdrawal confirmation or error message\n",
    "    \"\"\"\n",
    "    reply = \"\"  # Initialize reply message\n",
    "\n",
    "    for customer in customers:\n",
    "        # Check if account number matches\n",
    "        if customer[\"Account_Number\"] == account_number:\n",
    "            name = customer[\"Customer_name\"]\n",
    "            print(f\"\\nDear {name}\")\n",
    "            # Check if password is correct\n",
    "            if customer[\"Password\"] == password:\n",
    "                # Check if balance is sufficient for withdrawal\n",
    "                if customer[\"Account_Balance\"] > amount:\n",
    "                    # Deduct the amount\n",
    "                    customer[\"Account_Balance\"] -= amount\n",
    "                    # Log the transaction\n",
    "                    customer[\"Transaction_History\"].append(f\"Withdrew {amount}\")\n",
    "                    reply = f\"The Sum of #{amount} has been withdrawn\"\n",
    "                else:\n",
    "                    # Insufficient funds\n",
    "                    reply = \"Insufficient funds: Kindly deposit funds to perform transaction\"\n",
    "            else:\n",
    "                # If Password is incorrect\n",
    "                reply = \"Password Incorrect: Kindly confirm the entered password\"\n",
    "            break  # Exit loop\n",
    "        else:\n",
    "            # If account number not found\n",
    "            reply = \"Account not Found: Kindly Confirm Account Number\"\n",
    "\n",
    "    return reply\n",
    "\n",
    "\n",
    "def deposit_cash(account_number, password, amount):\n",
    "    \"\"\"\n",
    "    This function deposits a specified amount into the customer's account\n",
    "\n",
    "    Parameters:\n",
    "    account_number (str): Account number of customer\n",
    "    password (str): Password of customer\n",
    "    amount (float): Amount to deposit\n",
    "\n",
    "    Returns:\n",
    "    reply (str): Deposit confirmation or error message\n",
    "    \"\"\"\n",
    "    reply = \"\"  # Initialize response message\n",
    "\n",
    "    for customer in customers:\n",
    "        # Match account number\n",
    "        if customer[\"Account_Number\"] == account_number:\n",
    "            name = customer[\"Customer_name\"]\n",
    "            print(f\"\\nDear {name} \")\n",
    "            # Verify password\n",
    "            if customer[\"Password\"] == password:\n",
    "                # Add deposit to balance\n",
    "                customer[\"Account_Balance\"] += amount\n",
    "                # Log the transaction\n",
    "                customer[\"Transaction_History\"].append(f\"Deposited {amount}\")\n",
    "                reply = f\"The Sum of #{amount} has been Deposited\"\n",
    "            else:\n",
    "                # Incorrect password\n",
    "                reply = \"Password Incorrect: Kindly confirm the entered password\"\n",
    "            break  # Exit loop\n",
    "        else:\n",
    "            # Account not found\n",
    "            reply = \"Account not Found: Kindly Confirm Account Number\"\n",
    "\n",
    "    return reply\n",
    "\n",
    "\n",
    "def change_password(account_number, password, new_password):\n",
    "    \"\"\"\n",
    "    This function updates the customer's password\n",
    "\n",
    "    Parameters:\n",
    "    account_number (str): Account number of customer\n",
    "    password (str): Current password of customer\n",
    "    new_password (str): New password to set\n",
    "\n",
    "    Returns:\n",
    "    reply (str): Password update confirmation or error message\n",
    "    \"\"\"\n",
    "    reply = \"\"  # Initialize response message\n",
    "\n",
    "    for customer in customers:\n",
    "        # Find matching account\n",
    "        if customer[\"Account_Number\"] == account_number:\n",
    "            name = customer[\"Customer_name\"]\n",
    "            print(f\"\\nDear {name} \")\n",
    "            # Confirm password\n",
    "            if customer[\"Password\"] == password:\n",
    "                # Update to new password\n",
    "                customer[\"Password\"] = new_password\n",
    "                reply = \"Password had been updated\"\n",
    "            else:\n",
    "                # if password is incorrect\n",
    "                reply = \"Password Incorrect: Kindly confirm the entered password\"\n",
    "            break  # Exit loop\n",
    "        else:\n",
    "            # Account number not found\n",
    "            reply = \"Account not Found: Kindly Confirm Account Number\"\n",
    "\n",
    "    return reply\n",
    "\n",
    "\n",
    "def delete_account(account_number, password):\n",
    "    \"\"\"\n",
    "    This function deletes a customer's account after password and confirmation\n",
    "\n",
    "    Parameters:\n",
    "    account_number (str): Account number of customer\n",
    "    password (str): Password of customer\n",
    "\n",
    "    Returns:\n",
    "    reply (str): Deletion confirmation or error message\n",
    "    \"\"\"\n",
    "    reply = \"\"  # Response message\n",
    "    index = 0   # Keep track of current index for deletion\n",
    "\n",
    "    for customer in customers:\n",
    "        # Check for matching account\n",
    "        if customer[\"Account_Number\"] == account_number:\n",
    "            name = customer[\"Customer_name\"]\n",
    "            print(f\"\\nDear {name} \")\n",
    "            # Check password\n",
    "            if customer[\"Password\"] == password:\n",
    "                # Ask user to confirm deletion\n",
    "                confirmation = input(\"Confirm to delete account (Y/N):\")\n",
    "                if confirmation.lower() == \"y\":\n",
    "                    # Delete account\n",
    "                    del customers[index]\n",
    "                    reply = \"Account deleted Successfully\"\n",
    "                else:\n",
    "                    # Deletion cancelled\n",
    "                    reply = \"Account not deleted\"\n",
    "            else:\n",
    "                # Wrong password\n",
    "                reply = \"Password Incorrect: Kindly confirm the entered password\"\n",
    "            break\n",
    "        else:\n",
    "            # if account not  found\n",
    "            reply = \"Account not Found: Kindly Confirm Account Number\"\n",
    "        index += 1  # Increment index for deletion reference\n",
    "\n",
    "    return reply\n",
    "\n",
    "\n",
    "def check_transaction_history(account_number, password):\n",
    "    \"\"\"\n",
    "    This function displays and summarizes a customer's transaction history\n",
    "\n",
    "    Parameters:\n",
    "    account_number (str): Account number of customer\n",
    "    password (str): Password of customer\n",
    "\n",
    "    Returns:\n",
    "    reply (str): Summary of deposits and withdrawals or error message\n",
    "    \"\"\"\n",
    "    reply = \"\"  # Initialize message\n",
    "    withdrawal = 0  # total withdrawals\n",
    "    deposited = 0   # total deposits\n",
    "\n",
    "    for customer in customers:\n",
    "        # Locate customer\n",
    "        if customer[\"Account_Number\"] == account_number:\n",
    "            name = customer[\"Customer_name\"]\n",
    "            print(f\"\\nDear {name} \")\n",
    "            # confirm password\n",
    "            if customer[\"Password\"] == password:\n",
    "                # Display transaction headers\n",
    "                print(f\"Description                         |                   Value\")\n",
    "                print(f\"-------------------------------------------------------------\")\n",
    "\n",
    "                # Loop through transaction history\n",
    "                for history in customer[\"Transaction_History\"]:\n",
    "                    description = history.split()[0]  # gets description\n",
    "                    value = float(history.split()[1])   # gets numeric value of transaction\n",
    "\n",
    "                    # Sum totals\n",
    "                    if description == \"Withdrew\": #if withdrawal increase withdrawal sum total\n",
    "                        withdrawal += value\n",
    "                    elif description == \"Deposited\": #if deposited increase deposited sum total\n",
    "                        deposited += value\n",
    "\n",
    "                    # Print transaction\n",
    "                    print(f\"{description}                         |                   {value}\")\n",
    "\n",
    "                # Print current balance\n",
    "                value = customer[\"Account_Balance\"]\n",
    "                print(f\"Current_Bal                         |                   {value}\")\n",
    "\n",
    "                # Create summary string\n",
    "                reply = f\"Total Withdrawal: {withdrawal}                   Total Deposited: {deposited}\"\n",
    "            else:\n",
    "                # Incorrect password\n",
    "                reply = \"Password Incorrect: Kindly confirm the entered password\"\n",
    "            break\n",
    "        else:\n",
    "            # Account number not found\n",
    "            reply = \"Account not Found: Kindly Confirm Account Number\"\n",
    "\n",
    "    return reply\n"
   ]
  },
  {
   "cell_type": "code",
   "execution_count": 3,
   "metadata": {},
   "outputs": [
    {
     "name": "stdout",
     "output_type": "stream",
     "text": [
      "\n",
      "Dear Ngozi Okonjo-Iweala \n"
     ]
    },
    {
     "data": {
      "text/plain": [
       "'Account Balance is 7542.0'"
      ]
     },
     "execution_count": 3,
     "metadata": {},
     "output_type": "execute_result"
    }
   ],
   "source": [
    "check_balance(\"5004567890\", \"okonjonomics\")"
   ]
  },
  {
   "cell_type": "code",
   "execution_count": 4,
   "metadata": {},
   "outputs": [
    {
     "name": "stdout",
     "output_type": "stream",
     "text": [
      "\n",
      "Dear John Amaechi\n"
     ]
    },
    {
     "data": {
      "text/plain": [
       "'Insufficient funds: Kindly deposit funds to perform transaction'"
      ]
     },
     "execution_count": 4,
     "metadata": {},
     "output_type": "execute_result"
    }
   ],
   "source": [
    "withdraw_cash(\"9007789012\", \"celtics\", 10000)"
   ]
  },
  {
   "cell_type": "code",
   "execution_count": 5,
   "metadata": {},
   "outputs": [
    {
     "name": "stdout",
     "output_type": "stream",
     "text": [
      "\n",
      "Dear Wole Soyinka \n"
     ]
    },
    {
     "data": {
      "text/plain": [
       "'The Sum of #30000 has been Deposited'"
      ]
     },
     "execution_count": 5,
     "metadata": {},
     "output_type": "execute_result"
    }
   ],
   "source": [
    "deposit_cash(\"2005678910\", \"kongiharvest\", 30000)"
   ]
  },
  {
   "cell_type": "code",
   "execution_count": 6,
   "metadata": {},
   "outputs": [
    {
     "name": "stdout",
     "output_type": "stream",
     "text": [
      "\n",
      "Dear Wole Soyinka \n"
     ]
    },
    {
     "data": {
      "text/plain": [
       "'Password had been updated'"
      ]
     },
     "execution_count": 6,
     "metadata": {},
     "output_type": "execute_result"
    }
   ],
   "source": [
    "change_password(\"2005678910\", \"kongiharvest\", \"frank\")"
   ]
  },
  {
   "cell_type": "code",
   "execution_count": 7,
   "metadata": {},
   "outputs": [
    {
     "name": "stdout",
     "output_type": "stream",
     "text": [
      "\n",
      "Dear Wole Soyinka \n"
     ]
    },
    {
     "data": {
      "text/plain": [
       "'Account not deleted'"
      ]
     },
     "execution_count": 7,
     "metadata": {},
     "output_type": "execute_result"
    }
   ],
   "source": [
    "delete_account(\"2005678910\", \"frank\")"
   ]
  },
  {
   "cell_type": "code",
   "execution_count": 8,
   "metadata": {},
   "outputs": [
    {
     "name": "stdout",
     "output_type": "stream",
     "text": [
      "\n",
      "Dear Ngozi Okonjo-Iweala \n",
      "Description                         |                   Value\n",
      "-------------------------------------------------------------\n",
      "Opening_Bal                         |                   7542.0\n",
      "Current_Bal                         |                   7542.0\n"
     ]
    },
    {
     "data": {
      "text/plain": [
       "'Total Withdrawal: 0                   Total Deposited: 0'"
      ]
     },
     "execution_count": 8,
     "metadata": {},
     "output_type": "execute_result"
    }
   ],
   "source": [
    "check_transaction_history(\"5004567890\", \"okonjonomics\")"
   ]
  },
  {
   "cell_type": "code",
   "execution_count": 13,
   "metadata": {},
   "outputs": [
    {
     "ename": "ValueError",
     "evalue": "not enough values to unpack (expected 2, got 1)",
     "output_type": "error",
     "traceback": [
      "\u001b[1;31m---------------------------------------------------------------------------\u001b[0m",
      "\u001b[1;31mValueError\u001b[0m                                Traceback (most recent call last)",
      "Cell \u001b[1;32mIn[13], line 3\u001b[0m\n\u001b[0;32m      1\u001b[0m historys \u001b[39m=\u001b[39m [{\u001b[39m\"\u001b[39m\u001b[39mOpening_Bal\u001b[39m\u001b[39m\"\u001b[39m: \u001b[39m5000\u001b[39m}, {\u001b[39m\"\u001b[39m\u001b[39mdeposit\u001b[39m\u001b[39m\"\u001b[39m:\u001b[39m2500\u001b[39m}]\n\u001b[1;32m----> 3\u001b[0m \u001b[39mfor\u001b[39;00m key, value \u001b[39min\u001b[39;00m historys:\n\u001b[0;32m      4\u001b[0m   \u001b[39mprint\u001b[39m(key, value)\n",
      "\u001b[1;31mValueError\u001b[0m: not enough values to unpack (expected 2, got 1)"
     ]
    }
   ],
   "source": [
    "historys = [{\"Opening_Bal\": 5000}, {\"deposit\":2500}]\n",
    "\n",
    "for key, value in historys:\n",
    "  print(key, value)"
   ]
  }
 ],
 "metadata": {
  "kernelspec": {
   "display_name": "Python 3.8.0 64-bit",
   "language": "python",
   "name": "python3"
  },
  "language_info": {
   "codemirror_mode": {
    "name": "ipython",
    "version": 3
   },
   "file_extension": ".py",
   "mimetype": "text/x-python",
   "name": "python",
   "nbconvert_exporter": "python",
   "pygments_lexer": "ipython3",
   "version": "3.8.0"
  },
  "orig_nbformat": 4,
  "vscode": {
   "interpreter": {
    "hash": "9797abfaf020c6e6bba52756167e7881a08ae7141d2ed109425f0f652ac40435"
   }
  }
 },
 "nbformat": 4,
 "nbformat_minor": 2
}
