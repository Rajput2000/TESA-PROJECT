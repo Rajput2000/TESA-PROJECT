{
  "cells": [
    {
      "cell_type": "markdown",
      "metadata": {
        "id": "Ur_qg7MConPq"
      },
      "source": [
        "# Predicting Housing Prices in Nigerian Real Estate Market"
      ]
    },
    {
      "cell_type": "markdown",
      "metadata": {
        "id": "sE39B7wqonPs"
      },
      "source": [
        "### **Project Overview**"
      ]
    },
    {
      "cell_type": "markdown",
      "metadata": {},
      "source": [
        "![Alt text](Screenshot%202025-05-24%20103538.png)"
      ]
    },
    {
      "cell_type": "markdown",
      "metadata": {
        "id": "hWHa3NiponPt"
      },
      "source": [
        "**Introduction**<br>\n",
        "Nigeria’s real estate sector is witnessing rapid growth, driven by its expanding population—over 216 million people—and a rising urbanization rate. Urban hubs like Lagos are experiencing surging demand for housing, highlighting the importance of accurate real estate insights. With projections that the market could exceed $2.4 trillion in value by 2024 [Source](https://www.linkedin.com/posts/nairametrics_nigerias-real-estate-market-expected-to-activity-7226184716788391938-meca#:~:text=The%20Nigerian%20real%20estate%20market,11%20million%20units%20for%202024), stakeholders increasingly require tools to navigate this evolving landscape.<br>\n",
        "\n",
        "**Problem Statement**<br>\n",
        "Despite high demand, stakeholders such as developers, investors, and homebuyers face challenges in making informed decisions due to a lack of accessible, data-driven insights. Traditional methods of property valuation are often subjective, inconsistent, or outdated, leading to pricing inefficiencies and mismatches in market expectations.<br>\n",
        "\n",
        "**Solution Provided**<br>\n",
        "An analytic approach was applied by collecting, cleaning, and preprocessing housing data from Wazobia Housing listings. Using key property features, a machine learning regression model was developed and evaluated to predict residential property prices. The project delivers price estimations based on housing attributes, alongside visual analytics and performance metrics to support interpretation and validation.\n",
        "\n",
        "**Project Team Members**\n",
        "<ul>\n",
        "<li>Data Analytics Engineer: Eyitoyosi Alabi (Group Leader)</li>\n",
        "<li>Data Analytics Engineer: Oluwatomilola Aladegbola</li>\n",
        "<li>Data Analytics Engineer: Nnamba Ikenna</li>\n",
        "<li>Data Analytics Engineer: Albert Omene</li>\n",
        "<li>ML and AI Engineer: Gbenga Raji</li>\n",
        "<li>ML and AI Engineer: Emmanuel Adeitan</li>\n",
        "</ul>\n",
        "\n",
        "**Objectives**<br>\n",
        "1. *Data Cleaning*: Analyze and clean the collected housing dataset.\n",
        "2. *Forecast Housing Prices:* Build a predictive model to estimate Nigerian house prices using property features.\n",
        "3. *Model Evaluation:* Assess the model’s performance using the root mean squared error metrics to ensure reliability and generalizability\n",
        "\n",
        "\n",
        "**Project Scope**<br>\n",
        "This project focuses exclusively on residential housing listings within Nigeria. Tasks included data cleaning, exploratory data analysis, feature engineering, and building a regression model to predict housing prices. Outputs include visualizations and model evaluation metrics\n",
        "\n",
        "\n",
        "**Tools and Technologies**\n",
        "<ul>\n",
        "<li>Programming Language: Python (Jupyter Notebook)</li>\n",
        "<li>Data Manipulation: pandas, NumPy</li>\n",
        "<li>Visualization: Matplotlib, Seaborn</li>\n",
        "<li>Machine Learning: scikit-learn</li>\n",
        "</ul>"
      ]
    },
    {
      "cell_type": "markdown",
      "metadata": {
        "id": "VK2hpQxronPu"
      },
      "source": [
        "### Project Phases"
      ]
    },
    {
      "cell_type": "markdown",
      "metadata": {
        "id": "QtD9OA3honPv"
      },
      "source": [
        "### Understanding the dataset"
      ]
    },
    {
      "cell_type": "code",
      "execution_count": 1,
      "metadata": {
        "id": "SOoEDa9NonPv"
      },
      "outputs": [],
      "source": [
        "#import library\n",
        "import numpy as np\n",
        "import pandas as pd\n",
        "import matplotlib.pyplot as plt\n",
        "import seaborn as sns\n",
        "import warnings\n",
        "\n",
        "warnings.filterwarnings(\"ignore\")\n"
      ]
    },
    {
      "cell_type": "code",
      "execution_count": 2,
      "metadata": {
        "id": "TYfx5mT4onPw",
        "outputId": "18e95dd0-6f0f-419f-c944-d5e765e007f0"
      },
      "outputs": [
        {
          "data": {
            "text/html": [
              "<div>\n",
              "<style scoped>\n",
              "    .dataframe tbody tr th:only-of-type {\n",
              "        vertical-align: middle;\n",
              "    }\n",
              "\n",
              "    .dataframe tbody tr th {\n",
              "        vertical-align: top;\n",
              "    }\n",
              "\n",
              "    .dataframe thead th {\n",
              "        text-align: right;\n",
              "    }\n",
              "</style>\n",
              "<table border=\"1\" class=\"dataframe\">\n",
              "  <thead>\n",
              "    <tr style=\"text-align: right;\">\n",
              "      <th></th>\n",
              "      <th>ID</th>\n",
              "      <th>loc</th>\n",
              "      <th>title</th>\n",
              "      <th>bedrom</th>\n",
              "      <th>bathroom</th>\n",
              "      <th>parking_space</th>\n",
              "      <th>price</th>\n",
              "    </tr>\n",
              "  </thead>\n",
              "  <tbody>\n",
              "    <tr>\n",
              "      <th>0</th>\n",
              "      <td>3583</td>\n",
              "      <td>Katsina</td>\n",
              "      <td>Semi-detached duplex</td>\n",
              "      <td>2.0</td>\n",
              "      <td>2.0</td>\n",
              "      <td>1.0</td>\n",
              "      <td>1149999.565</td>\n",
              "    </tr>\n",
              "    <tr>\n",
              "      <th>1</th>\n",
              "      <td>2748</td>\n",
              "      <td>Ondo</td>\n",
              "      <td>Apartment</td>\n",
              "      <td>NaN</td>\n",
              "      <td>2.0</td>\n",
              "      <td>4.0</td>\n",
              "      <td>1672416.689</td>\n",
              "    </tr>\n",
              "    <tr>\n",
              "      <th>2</th>\n",
              "      <td>9261</td>\n",
              "      <td>Ekiti</td>\n",
              "      <td>NaN</td>\n",
              "      <td>7.0</td>\n",
              "      <td>5.0</td>\n",
              "      <td>NaN</td>\n",
              "      <td>3364799.814</td>\n",
              "    </tr>\n",
              "    <tr>\n",
              "      <th>3</th>\n",
              "      <td>2224</td>\n",
              "      <td>Anambra</td>\n",
              "      <td>Detached duplex</td>\n",
              "      <td>5.0</td>\n",
              "      <td>2.0</td>\n",
              "      <td>4.0</td>\n",
              "      <td>2410306.756</td>\n",
              "    </tr>\n",
              "    <tr>\n",
              "      <th>4</th>\n",
              "      <td>10300</td>\n",
              "      <td>Kogi</td>\n",
              "      <td>Terrace duplex</td>\n",
              "      <td>NaN</td>\n",
              "      <td>5.0</td>\n",
              "      <td>6.0</td>\n",
              "      <td>2600700.898</td>\n",
              "    </tr>\n",
              "  </tbody>\n",
              "</table>\n",
              "</div>"
            ],
            "text/plain": [
              "      ID      loc                 title  bedrom  bathroom  parking_space  \\\n",
              "0   3583  Katsina  Semi-detached duplex     2.0       2.0            1.0   \n",
              "1   2748     Ondo             Apartment     NaN       2.0            4.0   \n",
              "2   9261    Ekiti                   NaN     7.0       5.0            NaN   \n",
              "3   2224  Anambra       Detached duplex     5.0       2.0            4.0   \n",
              "4  10300     Kogi        Terrace duplex     NaN       5.0            6.0   \n",
              "\n",
              "         price  \n",
              "0  1149999.565  \n",
              "1  1672416.689  \n",
              "2  3364799.814  \n",
              "3  2410306.756  \n",
              "4  2600700.898  "
            ]
          },
          "execution_count": 2,
          "metadata": {},
          "output_type": "execute_result"
        }
      ],
      "source": [
        "#read dataset\n",
        "data = pd.read_csv(r\"tesa_unclean.csv\")\n",
        "data.head()"
      ]
    },
    {
      "cell_type": "code",
      "execution_count": 3,
      "metadata": {
        "id": "kR60bY_6onPx",
        "outputId": "14bfadd3-4157-4e7e-d625-876da4019c5e"
      },
      "outputs": [
        {
          "name": "stdout",
          "output_type": "stream",
          "text": [
            "<class 'pandas.core.frame.DataFrame'>\n",
            "RangeIndex: 14000 entries, 0 to 13999\n",
            "Data columns (total 7 columns):\n",
            " #   Column         Non-Null Count  Dtype  \n",
            "---  ------         --------------  -----  \n",
            " 0   ID             14000 non-null  int64  \n",
            " 1   loc            12187 non-null  object \n",
            " 2   title          12278 non-null  object \n",
            " 3   bedrom         12201 non-null  float64\n",
            " 4   bathroom       12195 non-null  float64\n",
            " 5   parking_space  12189 non-null  float64\n",
            " 6   price          14000 non-null  float64\n",
            "dtypes: float64(4), int64(1), object(2)\n",
            "memory usage: 765.8+ KB\n"
          ]
        }
      ],
      "source": [
        "#create a copy of the dataset and display basic information about it\n",
        "df= data.copy()\n",
        "df.info()"
      ]
    },
    {
      "cell_type": "code",
      "execution_count": 4,
      "metadata": {
        "id": "SoljEDhkonPy",
        "outputId": "ebbff9b8-4cde-477f-feda-60377a133515"
      },
      "outputs": [
        {
          "name": "stdout",
          "output_type": "stream",
          "text": [
            "The data has:\n",
            "\n",
            " Rows: 14000 \n",
            " Columns: 7\n"
          ]
        }
      ],
      "source": [
        "df.shape\n",
        "print(\"The data has:\\n\\n\",\"Rows:\", df.shape[0],\"\\n\",\"Columns:\", df.shape[1])"
      ]
    },
    {
      "cell_type": "markdown",
      "metadata": {
        "id": "m0hNPMgeonPz"
      },
      "source": [
        "The collected dataset contains 14000 instances of house type and 7 different attributes;\n",
        "<ul>\n",
        "<li>ID</li>\n",
        "<li>Location</li>\n",
        "<li>House Type</li>\n",
        "<li>Number of Bedroom</li>\n",
        "<li>Number of Bathroo</li>\n",
        "<li>Number of Parking Space</li>\n",
        "<li>Prices</li>\n",
        "</ul>\n"
      ]
    },
    {
      "cell_type": "markdown",
      "metadata": {
        "id": "BAeWvfIxonPz"
      },
      "source": [
        "<b>Renaming Columns for easy Readability</b>\n",
        "\n",
        "The following columns `loc`, `title`, `bedrom`, and `bathroom` where renamed to `location`, `house_type`, `no_of_bedrooms`, and `no_of_bathrooms` respectively for easier readability."
      ]
    },
    {
      "cell_type": "code",
      "execution_count": 5,
      "metadata": {
        "id": "DYa57mFQonP0"
      },
      "outputs": [],
      "source": [
        "#rename the bedrom column to bedroom\n",
        "df.rename(columns={\"loc\": \"location\", \"title\": \"house_type\", \"bedrom\": \"no_of_bedrooms\", \"bathroom\": \"no_of_bathrooms\"}, inplace=True)"
      ]
    },
    {
      "cell_type": "markdown",
      "metadata": {
        "id": "2SbytP8NonP0"
      },
      "source": [
        "### Data Investigation"
      ]
    },
    {
      "cell_type": "code",
      "execution_count": 6,
      "metadata": {
        "id": "Ud6gObWQonP0",
        "outputId": "2db7f3de-0933-4c24-9b53-b83dcaeaec6a"
      },
      "outputs": [
        {
          "name": "stdout",
          "output_type": "stream",
          "text": [
            "Number of null values per column\n"
          ]
        },
        {
          "data": {
            "text/plain": [
              "ID                    0\n",
              "location           1813\n",
              "house_type         1722\n",
              "no_of_bedrooms     1799\n",
              "no_of_bathrooms    1805\n",
              "parking_space      1811\n",
              "price                 0\n",
              "dtype: int64"
            ]
          },
          "execution_count": 6,
          "metadata": {},
          "output_type": "execute_result"
        }
      ],
      "source": [
        "#check for null values\n",
        "null_counts = df.isnull().sum()\n",
        "print(\"Number of null values per column\")\n",
        "null_counts\n"
      ]
    },
    {
      "cell_type": "code",
      "execution_count": 7,
      "metadata": {
        "id": "pSFTEl7_onP0",
        "outputId": "74d261e4-fda9-409c-d62d-1ec7b80316a0"
      },
      "outputs": [
        {
          "name": "stdout",
          "output_type": "stream",
          "text": [
            "No of duplicates: 0\n"
          ]
        }
      ],
      "source": [
        "#check for duplicates\n",
        "print(\"No of duplicates: \", end=\"\")\n",
        "print(df.duplicated().sum())"
      ]
    },
    {
      "cell_type": "code",
      "execution_count": 8,
      "metadata": {
        "id": "q9O3_7MionP1",
        "outputId": "d0cd3a9e-3e8a-4654-caf2-35804a87ed10"
      },
      "outputs": [
        {
          "name": "stdout",
          "output_type": "stream",
          "text": [
            "Short Statistics of the dataset\n"
          ]
        },
        {
          "data": {
            "text/html": [
              "<div>\n",
              "<style scoped>\n",
              "    .dataframe tbody tr th:only-of-type {\n",
              "        vertical-align: middle;\n",
              "    }\n",
              "\n",
              "    .dataframe tbody tr th {\n",
              "        vertical-align: top;\n",
              "    }\n",
              "\n",
              "    .dataframe thead th {\n",
              "        text-align: right;\n",
              "    }\n",
              "</style>\n",
              "<table border=\"1\" class=\"dataframe\">\n",
              "  <thead>\n",
              "    <tr style=\"text-align: right;\">\n",
              "      <th></th>\n",
              "      <th>ID</th>\n",
              "      <th>location</th>\n",
              "      <th>house_type</th>\n",
              "      <th>no_of_bedrooms</th>\n",
              "      <th>no_of_bathrooms</th>\n",
              "      <th>parking_space</th>\n",
              "      <th>price</th>\n",
              "    </tr>\n",
              "  </thead>\n",
              "  <tbody>\n",
              "    <tr>\n",
              "      <th>count</th>\n",
              "      <td>14000.000000</td>\n",
              "      <td>12187</td>\n",
              "      <td>12278</td>\n",
              "      <td>12201.000000</td>\n",
              "      <td>12195.000000</td>\n",
              "      <td>12189.000000</td>\n",
              "      <td>1.400000e+04</td>\n",
              "    </tr>\n",
              "    <tr>\n",
              "      <th>unique</th>\n",
              "      <td>NaN</td>\n",
              "      <td>36</td>\n",
              "      <td>10</td>\n",
              "      <td>NaN</td>\n",
              "      <td>NaN</td>\n",
              "      <td>NaN</td>\n",
              "      <td>NaN</td>\n",
              "    </tr>\n",
              "    <tr>\n",
              "      <th>top</th>\n",
              "      <td>NaN</td>\n",
              "      <td>Kadna</td>\n",
              "      <td>Flat</td>\n",
              "      <td>NaN</td>\n",
              "      <td>NaN</td>\n",
              "      <td>NaN</td>\n",
              "      <td>NaN</td>\n",
              "    </tr>\n",
              "    <tr>\n",
              "      <th>freq</th>\n",
              "      <td>NaN</td>\n",
              "      <td>370</td>\n",
              "      <td>1372</td>\n",
              "      <td>NaN</td>\n",
              "      <td>NaN</td>\n",
              "      <td>NaN</td>\n",
              "      <td>NaN</td>\n",
              "    </tr>\n",
              "    <tr>\n",
              "      <th>mean</th>\n",
              "      <td>4862.700357</td>\n",
              "      <td>NaN</td>\n",
              "      <td>NaN</td>\n",
              "      <td>4.308171</td>\n",
              "      <td>3.134235</td>\n",
              "      <td>3.169825</td>\n",
              "      <td>2.138082e+06</td>\n",
              "    </tr>\n",
              "    <tr>\n",
              "      <th>std</th>\n",
              "      <td>3818.348214</td>\n",
              "      <td>NaN</td>\n",
              "      <td>NaN</td>\n",
              "      <td>2.441165</td>\n",
              "      <td>2.035950</td>\n",
              "      <td>1.599415</td>\n",
              "      <td>1.083057e+06</td>\n",
              "    </tr>\n",
              "    <tr>\n",
              "      <th>min</th>\n",
              "      <td>0.000000</td>\n",
              "      <td>NaN</td>\n",
              "      <td>NaN</td>\n",
              "      <td>1.000000</td>\n",
              "      <td>1.000000</td>\n",
              "      <td>1.000000</td>\n",
              "      <td>4.319673e+05</td>\n",
              "    </tr>\n",
              "    <tr>\n",
              "      <th>25%</th>\n",
              "      <td>1672.750000</td>\n",
              "      <td>NaN</td>\n",
              "      <td>NaN</td>\n",
              "      <td>2.000000</td>\n",
              "      <td>1.000000</td>\n",
              "      <td>2.000000</td>\n",
              "      <td>1.393990e+06</td>\n",
              "    </tr>\n",
              "    <tr>\n",
              "      <th>50%</th>\n",
              "      <td>3527.000000</td>\n",
              "      <td>NaN</td>\n",
              "      <td>NaN</td>\n",
              "      <td>4.000000</td>\n",
              "      <td>2.000000</td>\n",
              "      <td>3.000000</td>\n",
              "      <td>1.895223e+06</td>\n",
              "    </tr>\n",
              "    <tr>\n",
              "      <th>75%</th>\n",
              "      <td>8011.250000</td>\n",
              "      <td>NaN</td>\n",
              "      <td>NaN</td>\n",
              "      <td>6.000000</td>\n",
              "      <td>5.000000</td>\n",
              "      <td>4.000000</td>\n",
              "      <td>2.586699e+06</td>\n",
              "    </tr>\n",
              "    <tr>\n",
              "      <th>max</th>\n",
              "      <td>12999.000000</td>\n",
              "      <td>NaN</td>\n",
              "      <td>NaN</td>\n",
              "      <td>9.000000</td>\n",
              "      <td>7.000000</td>\n",
              "      <td>6.000000</td>\n",
              "      <td>1.656849e+07</td>\n",
              "    </tr>\n",
              "  </tbody>\n",
              "</table>\n",
              "</div>"
            ],
            "text/plain": [
              "                  ID location house_type  no_of_bedrooms  no_of_bathrooms  \\\n",
              "count   14000.000000    12187      12278    12201.000000     12195.000000   \n",
              "unique           NaN       36         10             NaN              NaN   \n",
              "top              NaN    Kadna       Flat             NaN              NaN   \n",
              "freq             NaN      370       1372             NaN              NaN   \n",
              "mean     4862.700357      NaN        NaN        4.308171         3.134235   \n",
              "std      3818.348214      NaN        NaN        2.441165         2.035950   \n",
              "min         0.000000      NaN        NaN        1.000000         1.000000   \n",
              "25%      1672.750000      NaN        NaN        2.000000         1.000000   \n",
              "50%      3527.000000      NaN        NaN        4.000000         2.000000   \n",
              "75%      8011.250000      NaN        NaN        6.000000         5.000000   \n",
              "max     12999.000000      NaN        NaN        9.000000         7.000000   \n",
              "\n",
              "        parking_space         price  \n",
              "count    12189.000000  1.400000e+04  \n",
              "unique            NaN           NaN  \n",
              "top               NaN           NaN  \n",
              "freq              NaN           NaN  \n",
              "mean         3.169825  2.138082e+06  \n",
              "std          1.599415  1.083057e+06  \n",
              "min          1.000000  4.319673e+05  \n",
              "25%          2.000000  1.393990e+06  \n",
              "50%          3.000000  1.895223e+06  \n",
              "75%          4.000000  2.586699e+06  \n",
              "max          6.000000  1.656849e+07  "
            ]
          },
          "execution_count": 8,
          "metadata": {},
          "output_type": "execute_result"
        }
      ],
      "source": [
        "#check all available statistics\n",
        "print(\"Short Statistics of the dataset\")\n",
        "df.describe(include=\"all\")"
      ]
    },
    {
      "cell_type": "markdown",
      "metadata": {
        "id": "vc2IUyLQonP2"
      },
      "source": [
        "From the table, it was seen that\n",
        "- Prices ranged from 432,000 to 16.56 million, with 75% having a max price of 2.6 million.\n",
        "- Bedrooms: Mostly between 2–6\n",
        "- Bathrooms: Mostly between 1–5\n"
      ]
    },
    {
      "cell_type": "code",
      "execution_count": 9,
      "metadata": {
        "id": "tWJS7pk7onP2",
        "outputId": "56258638-1c04-42d3-a928-75caa7d715fa"
      },
      "outputs": [
        {
          "data": {
            "text/plain": [
              "house_type\n",
              "Flat                    1372\n",
              "Apartment               1331\n",
              "Townhouse               1327\n",
              "Mansion                 1322\n",
              "Detached duplex         1312\n",
              "Penthouse               1306\n",
              "Semi-detached duplex    1299\n",
              "Bungalow                1293\n",
              "Terrace duplex          1266\n",
              "Cottage                  450\n",
              "Name: count, dtype: int64"
            ]
          },
          "execution_count": 9,
          "metadata": {},
          "output_type": "execute_result"
        }
      ],
      "source": [
        "#checking the values in house type\n",
        "df[\"house_type\"].value_counts()"
      ]
    },
    {
      "cell_type": "code",
      "execution_count": 10,
      "metadata": {
        "id": "u_ikLb93onP2",
        "outputId": "10d64b38-8310-4b5d-fa6c-53d70c7e2b54"
      },
      "outputs": [
        {
          "data": {
            "text/plain": [
              "location\n",
              "Kadna          370\n",
              "Anambra        363\n",
              "Benue          355\n",
              "Yobe           353\n",
              "Kano           351\n",
              "Borno          351\n",
              "Nasarawa       349\n",
              "Cross River    349\n",
              "Imo            348\n",
              "Zamfara        348\n",
              "Ebonyi         346\n",
              "Kebbi          346\n",
              "Katsina        345\n",
              "Ogun           345\n",
              "Ondo           344\n",
              "Gombe          343\n",
              "Bauchi         342\n",
              "Oyo            341\n",
              "Adamawa        341\n",
              "Bayelsa        340\n",
              "Plateau        338\n",
              "Osun           338\n",
              "Jigawa         337\n",
              "Ekiti          336\n",
              "Kwara          333\n",
              "Niger          330\n",
              "Akwa Ibom      329\n",
              "Lagos          328\n",
              "Sokoto         326\n",
              "Delta          325\n",
              "Enugu          324\n",
              "Rivers         323\n",
              "Kogi           321\n",
              "Taraba         315\n",
              "Abia           312\n",
              "Edo            302\n",
              "Name: count, dtype: int64"
            ]
          },
          "execution_count": 10,
          "metadata": {},
          "output_type": "execute_result"
        }
      ],
      "source": [
        "#checking the values in location\n",
        "df[\"location\"].value_counts()"
      ]
    },
    {
      "cell_type": "markdown",
      "metadata": {
        "id": "Eq8CEdZ8onP3"
      },
      "source": [
        "From above, the following problems where detected:\n",
        "<ol>\n",
        "<li>Incorrect Datatypes: some columns were not properly represented in the correct datatypes.</li>\n",
        "<li>Wrong Spelling: The states where seen to be states in nigeria, which was then used to tell that kaduna was missed spelt as Kadna</li>\n",
        "<li>Missing Data: the columns location, house_type, no_of_bedrom, no_of_bathroom, parking_space has null values.</li>\n",
        "<li>Outliers: The price column showed extreme values above the 75% percentile.</li>\n",
        "</ol>"
      ]
    },
    {
      "cell_type": "markdown",
      "metadata": {
        "id": "YCBNgawLonP3"
      },
      "source": [
        "### Data Cleaning"
      ]
    },
    {
      "cell_type": "markdown",
      "metadata": {
        "id": "RWeEcj8zonP4"
      },
      "source": [
        "#### 1. Incorrect Datatypes"
      ]
    },
    {
      "cell_type": "markdown",
      "metadata": {
        "id": "SC06z07ZonP4"
      },
      "source": [
        "To correct the datatypes, the following were done:\n",
        "\n",
        "<ul>\n",
        "<li>The ID column was changed to string</li>\n",
        "<li>The no_of_bedroom, no_of_bathroom and parking_space columns were changed to integer because you can't have half value of them</li></ul>"
      ]
    },
    {
      "cell_type": "code",
      "execution_count": 11,
      "metadata": {
        "id": "BLQgqmYponP4",
        "outputId": "dd44a8af-7f17-45c6-ffa9-dec55a4d8478"
      },
      "outputs": [
        {
          "name": "stdout",
          "output_type": "stream",
          "text": [
            "<class 'pandas.core.frame.DataFrame'>\n",
            "RangeIndex: 14000 entries, 0 to 13999\n",
            "Data columns (total 7 columns):\n",
            " #   Column           Non-Null Count  Dtype  \n",
            "---  ------           --------------  -----  \n",
            " 0   ID               14000 non-null  object \n",
            " 1   location         12187 non-null  object \n",
            " 2   house_type       12278 non-null  object \n",
            " 3   no_of_bedrooms   12201 non-null  Int64  \n",
            " 4   no_of_bathrooms  12195 non-null  Int64  \n",
            " 5   parking_space    12189 non-null  Int64  \n",
            " 6   price            14000 non-null  float64\n",
            "dtypes: Int64(3), float64(1), object(3)\n",
            "memory usage: 806.8+ KB\n"
          ]
        }
      ],
      "source": [
        "# Change the dtypes of the columns with wrong datatypes\n",
        "df[\"ID\"] = df[\"ID\"].astype(str)\n",
        "df[\"no_of_bedrooms\"] = df[\"no_of_bedrooms\"].astype(\"Int64\")\n",
        "df[\"no_of_bathrooms\"] = df[\"no_of_bathrooms\"].astype(\"Int64\")\n",
        "df[\"parking_space\"] = df[\"parking_space\"].astype(\"Int64\")\n",
        "\n",
        "df.info()"
      ]
    },
    {
      "cell_type": "markdown",
      "metadata": {
        "id": "rCoyaHJMonP5"
      },
      "source": [
        "#### 2. Wrong Spelling"
      ]
    },
    {
      "cell_type": "markdown",
      "metadata": {
        "id": "YeIPiSJqonP5"
      },
      "source": [
        "The incorrect spelling in the title column - \"Kadna\" was replaced with \"Kaduna\""
      ]
    },
    {
      "cell_type": "code",
      "execution_count": 12,
      "metadata": {
        "id": "rO8qK633onP5"
      },
      "outputs": [],
      "source": [
        "#replace Kadna with Kaduna\n",
        "df.replace(\"Kadna\", \"Kaduna\", inplace=True)"
      ]
    },
    {
      "cell_type": "markdown",
      "metadata": {
        "id": "e5lsrUDponP5"
      },
      "source": [
        "#### 3. Missing Data"
      ]
    },
    {
      "cell_type": "markdown",
      "metadata": {
        "id": "yDi_DZwIonP6"
      },
      "source": [
        "##### Exploratory Analysis"
      ]
    },
    {
      "cell_type": "markdown",
      "metadata": {
        "id": "l7M79htqonP6"
      },
      "source": [
        "Firstly, inorder to be able to select the values to replace the missing values, an exploratory analysis will be done to discover relationship between columns."
      ]
    },
    {
      "cell_type": "code",
      "execution_count": 13,
      "metadata": {
        "id": "dn9WS4GjonP6",
        "outputId": "00b57e47-a225-4450-861d-67352f6f29ef"
      },
      "outputs": [
        {
          "data": {
            "text/html": [
              "<div>\n",
              "<style scoped>\n",
              "    .dataframe tbody tr th:only-of-type {\n",
              "        vertical-align: middle;\n",
              "    }\n",
              "\n",
              "    .dataframe tbody tr th {\n",
              "        vertical-align: top;\n",
              "    }\n",
              "\n",
              "    .dataframe thead th {\n",
              "        text-align: right;\n",
              "    }\n",
              "</style>\n",
              "<table border=\"1\" class=\"dataframe\">\n",
              "  <thead>\n",
              "    <tr style=\"text-align: right;\">\n",
              "      <th></th>\n",
              "      <th>no_of_bedrooms</th>\n",
              "      <th>no_of_bathrooms</th>\n",
              "      <th>parking_space</th>\n",
              "      <th>price</th>\n",
              "    </tr>\n",
              "    <tr>\n",
              "      <th>house_type</th>\n",
              "      <th></th>\n",
              "      <th></th>\n",
              "      <th></th>\n",
              "      <th></th>\n",
              "    </tr>\n",
              "  </thead>\n",
              "  <tbody>\n",
              "    <tr>\n",
              "      <th>Mansion</th>\n",
              "      <td>4.333929</td>\n",
              "      <td>3.19788</td>\n",
              "      <td>3.115114</td>\n",
              "      <td>3.725768e+06</td>\n",
              "    </tr>\n",
              "    <tr>\n",
              "      <th>Penthouse</th>\n",
              "      <td>4.342982</td>\n",
              "      <td>2.986667</td>\n",
              "      <td>3.225177</td>\n",
              "      <td>2.628945e+06</td>\n",
              "    </tr>\n",
              "    <tr>\n",
              "      <th>Detached duplex</th>\n",
              "      <td>4.32784</td>\n",
              "      <td>3.23227</td>\n",
              "      <td>3.230906</td>\n",
              "      <td>2.205883e+06</td>\n",
              "    </tr>\n",
              "    <tr>\n",
              "      <th>Townhouse</th>\n",
              "      <td>4.298759</td>\n",
              "      <td>3.165789</td>\n",
              "      <td>3.175454</td>\n",
              "      <td>2.056125e+06</td>\n",
              "    </tr>\n",
              "    <tr>\n",
              "      <th>Terrace duplex</th>\n",
              "      <td>4.340639</td>\n",
              "      <td>3.292616</td>\n",
              "      <td>3.178505</td>\n",
              "      <td>1.927270e+06</td>\n",
              "    </tr>\n",
              "    <tr>\n",
              "      <th>Semi-detached duplex</th>\n",
              "      <td>4.414903</td>\n",
              "      <td>3.19477</td>\n",
              "      <td>3.202912</td>\n",
              "      <td>1.918468e+06</td>\n",
              "    </tr>\n",
              "    <tr>\n",
              "      <th>Bungalow</th>\n",
              "      <td>4.402852</td>\n",
              "      <td>3.394664</td>\n",
              "      <td>3.192619</td>\n",
              "      <td>1.733845e+06</td>\n",
              "    </tr>\n",
              "    <tr>\n",
              "      <th>Flat</th>\n",
              "      <td>4.378877</td>\n",
              "      <td>3.188295</td>\n",
              "      <td>3.146486</td>\n",
              "      <td>1.721875e+06</td>\n",
              "    </tr>\n",
              "    <tr>\n",
              "      <th>Apartment</th>\n",
              "      <td>4.344219</td>\n",
              "      <td>3.109862</td>\n",
              "      <td>3.285714</td>\n",
              "      <td>1.567004e+06</td>\n",
              "    </tr>\n",
              "    <tr>\n",
              "      <th>Cottage</th>\n",
              "      <td>2.905512</td>\n",
              "      <td>1.510363</td>\n",
              "      <td>2.542714</td>\n",
              "      <td>1.307817e+06</td>\n",
              "    </tr>\n",
              "  </tbody>\n",
              "</table>\n",
              "</div>"
            ],
            "text/plain": [
              "                      no_of_bedrooms  no_of_bathrooms  parking_space  \\\n",
              "house_type                                                             \n",
              "Mansion                     4.333929          3.19788       3.115114   \n",
              "Penthouse                   4.342982         2.986667       3.225177   \n",
              "Detached duplex              4.32784          3.23227       3.230906   \n",
              "Townhouse                   4.298759         3.165789       3.175454   \n",
              "Terrace duplex              4.340639         3.292616       3.178505   \n",
              "Semi-detached duplex        4.414903          3.19477       3.202912   \n",
              "Bungalow                    4.402852         3.394664       3.192619   \n",
              "Flat                        4.378877         3.188295       3.146486   \n",
              "Apartment                   4.344219         3.109862       3.285714   \n",
              "Cottage                     2.905512         1.510363       2.542714   \n",
              "\n",
              "                             price  \n",
              "house_type                          \n",
              "Mansion               3.725768e+06  \n",
              "Penthouse             2.628945e+06  \n",
              "Detached duplex       2.205883e+06  \n",
              "Townhouse             2.056125e+06  \n",
              "Terrace duplex        1.927270e+06  \n",
              "Semi-detached duplex  1.918468e+06  \n",
              "Bungalow              1.733845e+06  \n",
              "Flat                  1.721875e+06  \n",
              "Apartment             1.567004e+06  \n",
              "Cottage               1.307817e+06  "
            ]
          },
          "execution_count": 13,
          "metadata": {},
          "output_type": "execute_result"
        }
      ],
      "source": [
        "numeric_cols = ['no_of_bedrooms', 'no_of_bathrooms', 'parking_space', 'price']\n",
        "df.groupby(by=[\"house_type\"])[numeric_cols].mean().sort_values(by=[\"price\"], ascending=False)"
      ]
    },
    {
      "cell_type": "markdown",
      "metadata": {
        "id": "ustQQJu0onP6"
      },
      "source": [
        "Based on the price grouping, mansions stand out as the most expensive properties, averaging close to `N4 million`.<br> Following closely are penthouses, priced at over `N2.6 million`, and detached duplexes, which typically cost more than `N2 million`.<br> On the more affordable end, flats average `N1.7 million`, apartments come in at `N1.6 million`, while cottages are the least expensive, costing around `N1.3 million`.\n",
        "<br>Also from this table we can deduce that house type is a big factor for prices of the house\n",
        "<br>To further justify this findings below is a chart showing the graphical relationship between `House_type` and `Price"
      ]
    },
    {
      "cell_type": "code",
      "execution_count": 14,
      "metadata": {
        "id": "uDIGSpHHonP7",
        "outputId": "ad0e8789-badb-4e40-a73b-684568153887"
      },
      "outputs": [
        {
          "data": {
            "image/png": "[encoded data removed]",
            "text/plain": [
              "<Figure size 640x480 with 1 Axes>"
            ]
          },
          "metadata": {},
          "output_type": "display_data"
        }
      ],
      "source": [
        "#relationship between price and the house types\n",
        "order_house = df.groupby(\"house_type\")[\"price\"].mean().sort_values().index\n",
        "\n",
        "sns.barplot(data=df, x=\"house_type\", y=\"price\", order= order_house, log_scale=True)\n",
        "plt.title(\"Mean Price of the different House Type\")\n",
        "plt.xticks(rotation=90)\n",
        "plt.show()"
      ]
    },
    {
      "cell_type": "markdown",
      "metadata": {
        "id": "74ib7DQWonP7"
      },
      "source": [
        "House types like Apartments, Flats, and Bungalows has lower prices, while Penthouses and Mansions have significantly higher prices.\n",
        "\n",
        "The price column can be seen to vary with the type of houses, with mansion and penthouse having high mean price of houses compared to the rest"
      ]
    },
    {
      "cell_type": "markdown",
      "metadata": {
        "id": "6p6vn_nmonP7"
      },
      "source": [
        "**Addressing Location column**\n",
        "Checking the relationship between location and price"
      ]
    },
    {
      "cell_type": "code",
      "execution_count": 15,
      "metadata": {
        "id": "6ekQcGL5onP7",
        "outputId": "dc9194cc-d2c5-4c9a-8b7d-98a776d857b1"
      },
      "outputs": [
        {
          "data": {
            "image/png": "[encoded data removed]",
            "text/plain": [
              "<Figure size 1600x500 with 1 Axes>"
            ]
          },
          "metadata": {},
          "output_type": "display_data"
        }
      ],
      "source": [
        "#relationship between the location and price\n",
        "plt.figure(figsize=(16, 5))\n",
        "order_location = df.groupby(\"location\")[\"price\"].mean().sort_values().index\n",
        "\n",
        "sns.barplot(data=df, x=\"location\", y=\"price\", order= order_location, log_scale=True)\n",
        "plt.title(\"Mean Price of different Location\")\n",
        "plt.xticks(rotation=90)\n",
        "plt.show()"
      ]
    },
    {
      "cell_type": "markdown",
      "metadata": {
        "id": "5suqAv_IonP7"
      },
      "source": [
        "From the plot, it is evident that the mean prices for most locations are very close to each other, with only a few locations (such as Lagos and Bayelsa) showing distinctly higher mean prices. This small difference in mean prices across the majority of locations means that using price alone to infer or fill missing values in the location column would be unreliable. Since properties in different locations can have similar prices, price does not provide enough discriminatory power to accurately predict the correct location for missing values. Therefore, price is not a suitable feature for imputing missing values in the location column."
      ]
    },
    {
      "cell_type": "markdown",
      "metadata": {
        "id": "Qewab7ASonP7"
      },
      "source": [
        "**Adressing the missing values in bedroom, bathrooms, and parking space**\n",
        "\n",
        "Checking correlation between no of bedrooms, no of bathrooms, parking space and price"
      ]
    },
    {
      "cell_type": "code",
      "execution_count": 16,
      "metadata": {
        "id": "4uGX71knonP8",
        "outputId": "eb389422-c193-4641-ea11-611fc6eec2a9"
      },
      "outputs": [
        {
          "data": {
            "image/png": "[encoded data removed]",
            "text/plain": [
              "<Figure size 1000x800 with 2 Axes>"
            ]
          },
          "metadata": {},
          "output_type": "display_data"
        }
      ],
      "source": [
        "#correlation relation between the numerical values\n",
        "plt.figure(figsize=(10,8))\n",
        "sns.heatmap(df.corr(numeric_only=True), annot=True, cmap='coolwarm', fmt='.2f', linewidths=0.5)\n",
        "plt.title(\"Correlation Matrix\")\n",
        "plt.show()"
      ]
    },
    {
      "cell_type": "markdown",
      "metadata": {
        "id": "I4h08xZqonP8"
      },
      "source": [
        "**Insights from the plot:**\n",
        "- There is a moderate positive correlation between the number of bedrooms and house price, indicating that houses with more bedrooms tend to be more expensive.\n",
        "- The number of bathrooms shows weak positive correlation with parking space and price.\n",
        "- The strongest relationships are observed between `no_of_bedrooms` and `price`, and between `no_of_bathrooms` and `no_of_bedrooms`.\n",
        "\n",
        "Overall, the matrix highlights that house size (as measured by bedrooms and bathrooms) is a key driver of price in this dataset.\n"
      ]
    },
    {
      "cell_type": "markdown",
      "metadata": {
        "id": "1-zqHYpEonP8"
      },
      "source": [
        "**DETECTING RELATIONSHIP PATTERNS FOR BEDROOMS**"
      ]
    },
    {
      "cell_type": "code",
      "execution_count": 17,
      "metadata": {
        "id": "K23np7_nonP8",
        "outputId": "9a4ca0de-6df4-4369-fd33-b106da180df9"
      },
      "outputs": [
        {
          "data": {
            "image/png": "[encoded data removed]",
            "text/plain": [
              "<Figure size 1600x500 with 1 Axes>"
            ]
          },
          "metadata": {},
          "output_type": "display_data"
        }
      ],
      "source": [
        "#relationship between the no of bedrooms and price\n",
        "plt.figure(figsize=(16, 5))\n",
        "\n",
        "sns.barplot(data=df[df['no_of_bedrooms'].notna()], x=\"no_of_bedrooms\", y=\"price\", log_scale=True)\n",
        "plt.title(\"Mean Price for different Number of Room\")\n",
        "plt.xticks(rotation=90)\n",
        "plt.show()"
      ]
    },
    {
      "cell_type": "markdown",
      "metadata": {
        "id": "bGzf9hIsonP9"
      },
      "source": [
        "The plot potrays the linear correlation between no of bedrooms and price. It demonstrates a clear positive linear relationship: as the number of bedrooms increases, the mean price also increases. <br>This indicates that properties with more bedrooms tend to be more expensive."
      ]
    },
    {
      "cell_type": "code",
      "execution_count": 18,
      "metadata": {
        "id": "fUjRKyM9onP9",
        "outputId": "64e79371-3fd7-40f5-f4d8-b70c253a9b09"
      },
      "outputs": [
        {
          "data": {
            "text/plain": [
              "<Axes: xlabel='no_of_bedrooms', ylabel='house_type'>"
            ]
          },
          "execution_count": 18,
          "metadata": {},
          "output_type": "execute_result"
        },
        {
          "data": {
            "image/png": "[encoded data removed]",
            "text/plain": [
              "<Figure size 1080x800 with 2 Axes>"
            ]
          },
          "metadata": {},
          "output_type": "display_data"
        }
      ],
      "source": [
        "pivot = df.pivot_table(index='house_type', columns=\"no_of_bedrooms\", values=\"price\", aggfunc=\"mean\")\n",
        "pivot.sort_values(by=1, inplace=True)\n",
        "\n",
        "# Set figure size based on number of house types/no_of_bedrooms\n",
        "fig_width = max(8, pivot.shape[1] * 1.2)\n",
        "fig_height = max(6, pivot.shape[0] * 0.8)\n",
        "\n",
        "# Plot heatmap\n",
        "plt.figure(figsize=(fig_width, fig_height))\n",
        "sns.heatmap(pivot, fmt=\".1f\", linewidths=0.5, cmap=\"coolwarm\")"
      ]
    },
    {
      "cell_type": "markdown",
      "metadata": {
        "id": "Y2zb9ecfonP9"
      },
      "source": [
        "Combining addition attributes of the dataset, the chart shows the average price of houses by house type and number of bedrooms.\n",
        "\n",
        "**Insights from the chart:**\n",
        "- The mean price increases as the number of bedrooms increases\n",
        "- Also, the mean price increases for the variation of the different house type, in a particular order.\n",
        "- The heatmap highlights that both house type and number of bedrooms are strong determinants of property price, insinuating that the price can be used to infer the no of bedrooms in a particular house type."
      ]
    },
    {
      "cell_type": "markdown",
      "metadata": {
        "id": "i_7eSKwUonP9"
      },
      "source": [
        "**DETECTING RELATIONSHIP PATTERNS FOR BATHROOMS**"
      ]
    },
    {
      "cell_type": "code",
      "execution_count": 19,
      "metadata": {
        "id": "AV-e-IpFonP9",
        "outputId": "183d1b1b-4b84-446f-f13a-ffbbd9b5c3ea"
      },
      "outputs": [
        {
          "data": {
            "text/plain": [
              "no_of_bathrooms\n",
              "1    3272\n",
              "2    3255\n",
              "7    1156\n",
              "5    1143\n",
              "6    1138\n",
              "3    1119\n",
              "4    1112\n",
              "Name: count, dtype: Int64"
            ]
          },
          "execution_count": 19,
          "metadata": {},
          "output_type": "execute_result"
        }
      ],
      "source": [
        "df[\"no_of_bathrooms\"].value_counts()"
      ]
    },
    {
      "cell_type": "markdown",
      "metadata": {
        "id": "6RyU9P3HonP-"
      },
      "source": [
        "Majority of the house can be seen to have 1-2 no of bathrooms and from the table, which shows a large gap in the price difference between houses with number of bathroom 1-2 and that of 3-7. Let't examine the relationship between house type and the no of bathrooms"
      ]
    },
    {
      "cell_type": "code",
      "execution_count": 20,
      "metadata": {
        "id": "RFyOEwk8onP-",
        "outputId": "b5f8d3a7-106b-4e9c-d41e-f7e63f22e8e8"
      },
      "outputs": [
        {
          "data": {
            "image/png": "[encoded data removed]",
            "text/plain": [
              "<Figure size 840x800 with 2 Axes>"
            ]
          },
          "metadata": {},
          "output_type": "display_data"
        }
      ],
      "source": [
        "# Crosstab: rows = house type, columns = no of bathrooms\n",
        "ct = pd.crosstab(df[\"house_type\"], df[\"no_of_bathrooms\"])\n",
        "\n",
        "# Set figure size based on number of house types/no_of_bathrooms\n",
        "fig_width = max(8, ct.shape[1] * 1.2)\n",
        "fig_height = max(6, ct.shape[0] * 0.8)\n",
        "\n",
        "# Plot heatmap\n",
        "plt.figure(figsize=(fig_width, fig_height))\n",
        "sns.heatmap(ct, annot=True, fmt=\"d\", cmap=\"YlGnBu\", linewidths=0.5, linecolor='gray')\n",
        "plt.title(\"Count of House Types by No of Bathrooms\")\n",
        "plt.xlabel(\"No of Bathrooms\")\n",
        "plt.ylabel(\"House Type\")\n",
        "plt.yticks(rotation=0)  # Keep House type labels horizontal\n",
        "plt.tight_layout()\n",
        "plt.show()"
      ]
    },
    {
      "cell_type": "markdown",
      "metadata": {
        "id": "uVFcgLyWonP-"
      },
      "source": [
        "Firstly, the plot was used to check if the type of house can be used to determing the no of bathrooms in the house, but the result shows that a high percentage of all house types has no of bathroom between 1 and 2. Further investigation was done to check for instace mansion, why this were occuring"
      ]
    },
    {
      "cell_type": "code",
      "execution_count": 21,
      "metadata": {
        "id": "GgJecMJtonP_",
        "outputId": "b17b20d1-bc10-4d55-e06a-cfdc6949b460"
      },
      "outputs": [
        {
          "data": {
            "text/html": [
              "<div>\n",
              "<style scoped>\n",
              "    .dataframe tbody tr th:only-of-type {\n",
              "        vertical-align: middle;\n",
              "    }\n",
              "\n",
              "    .dataframe tbody tr th {\n",
              "        vertical-align: top;\n",
              "    }\n",
              "\n",
              "    .dataframe thead th {\n",
              "        text-align: right;\n",
              "    }\n",
              "</style>\n",
              "<table border=\"1\" class=\"dataframe\">\n",
              "  <thead>\n",
              "    <tr style=\"text-align: right;\">\n",
              "      <th></th>\n",
              "      <th>ID</th>\n",
              "      <th>location</th>\n",
              "      <th>house_type</th>\n",
              "      <th>no_of_bedrooms</th>\n",
              "      <th>no_of_bathrooms</th>\n",
              "      <th>parking_space</th>\n",
              "      <th>price</th>\n",
              "    </tr>\n",
              "  </thead>\n",
              "  <tbody>\n",
              "    <tr>\n",
              "      <th>count</th>\n",
              "      <td>584</td>\n",
              "      <td>491</td>\n",
              "      <td>584</td>\n",
              "      <td>479.0</td>\n",
              "      <td>584.0</td>\n",
              "      <td>493.0</td>\n",
              "      <td>5.840000e+02</td>\n",
              "    </tr>\n",
              "    <tr>\n",
              "      <th>unique</th>\n",
              "      <td>569</td>\n",
              "      <td>36</td>\n",
              "      <td>1</td>\n",
              "      <td>&lt;NA&gt;</td>\n",
              "      <td>&lt;NA&gt;</td>\n",
              "      <td>&lt;NA&gt;</td>\n",
              "      <td>NaN</td>\n",
              "    </tr>\n",
              "    <tr>\n",
              "      <th>top</th>\n",
              "      <td>2502</td>\n",
              "      <td>Katsina</td>\n",
              "      <td>Mansion</td>\n",
              "      <td>&lt;NA&gt;</td>\n",
              "      <td>&lt;NA&gt;</td>\n",
              "      <td>&lt;NA&gt;</td>\n",
              "      <td>NaN</td>\n",
              "    </tr>\n",
              "    <tr>\n",
              "      <th>freq</th>\n",
              "      <td>2</td>\n",
              "      <td>21</td>\n",
              "      <td>584</td>\n",
              "      <td>&lt;NA&gt;</td>\n",
              "      <td>&lt;NA&gt;</td>\n",
              "      <td>&lt;NA&gt;</td>\n",
              "      <td>NaN</td>\n",
              "    </tr>\n",
              "    <tr>\n",
              "      <th>mean</th>\n",
              "      <td>NaN</td>\n",
              "      <td>NaN</td>\n",
              "      <td>NaN</td>\n",
              "      <td>3.812109</td>\n",
              "      <td>1.493151</td>\n",
              "      <td>2.823529</td>\n",
              "      <td>3.406484e+06</td>\n",
              "    </tr>\n",
              "    <tr>\n",
              "      <th>std</th>\n",
              "      <td>NaN</td>\n",
              "      <td>NaN</td>\n",
              "      <td>NaN</td>\n",
              "      <td>2.194082</td>\n",
              "      <td>0.500382</td>\n",
              "      <td>1.406754</td>\n",
              "      <td>1.828701e+06</td>\n",
              "    </tr>\n",
              "    <tr>\n",
              "      <th>min</th>\n",
              "      <td>NaN</td>\n",
              "      <td>NaN</td>\n",
              "      <td>NaN</td>\n",
              "      <td>1.0</td>\n",
              "      <td>1.0</td>\n",
              "      <td>1.0</td>\n",
              "      <td>7.376550e+05</td>\n",
              "    </tr>\n",
              "    <tr>\n",
              "      <th>25%</th>\n",
              "      <td>NaN</td>\n",
              "      <td>NaN</td>\n",
              "      <td>NaN</td>\n",
              "      <td>2.0</td>\n",
              "      <td>1.0</td>\n",
              "      <td>2.0</td>\n",
              "      <td>2.098774e+06</td>\n",
              "    </tr>\n",
              "    <tr>\n",
              "      <th>50%</th>\n",
              "      <td>NaN</td>\n",
              "      <td>NaN</td>\n",
              "      <td>NaN</td>\n",
              "      <td>4.0</td>\n",
              "      <td>1.0</td>\n",
              "      <td>3.0</td>\n",
              "      <td>3.230189e+06</td>\n",
              "    </tr>\n",
              "    <tr>\n",
              "      <th>75%</th>\n",
              "      <td>NaN</td>\n",
              "      <td>NaN</td>\n",
              "      <td>NaN</td>\n",
              "      <td>5.0</td>\n",
              "      <td>2.0</td>\n",
              "      <td>4.0</td>\n",
              "      <td>4.227536e+06</td>\n",
              "    </tr>\n",
              "    <tr>\n",
              "      <th>max</th>\n",
              "      <td>NaN</td>\n",
              "      <td>NaN</td>\n",
              "      <td>NaN</td>\n",
              "      <td>9.0</td>\n",
              "      <td>2.0</td>\n",
              "      <td>6.0</td>\n",
              "      <td>1.550231e+07</td>\n",
              "    </tr>\n",
              "  </tbody>\n",
              "</table>\n",
              "</div>"
            ],
            "text/plain": [
              "          ID location house_type  no_of_bedrooms  no_of_bathrooms  \\\n",
              "count    584      491        584           479.0            584.0   \n",
              "unique   569       36          1            <NA>             <NA>   \n",
              "top     2502  Katsina    Mansion            <NA>             <NA>   \n",
              "freq       2       21        584            <NA>             <NA>   \n",
              "mean     NaN      NaN        NaN        3.812109         1.493151   \n",
              "std      NaN      NaN        NaN        2.194082         0.500382   \n",
              "min      NaN      NaN        NaN             1.0              1.0   \n",
              "25%      NaN      NaN        NaN             2.0              1.0   \n",
              "50%      NaN      NaN        NaN             4.0              1.0   \n",
              "75%      NaN      NaN        NaN             5.0              2.0   \n",
              "max      NaN      NaN        NaN             9.0              2.0   \n",
              "\n",
              "        parking_space         price  \n",
              "count           493.0  5.840000e+02  \n",
              "unique           <NA>           NaN  \n",
              "top              <NA>           NaN  \n",
              "freq             <NA>           NaN  \n",
              "mean         2.823529  3.406484e+06  \n",
              "std          1.406754  1.828701e+06  \n",
              "min               1.0  7.376550e+05  \n",
              "25%               2.0  2.098774e+06  \n",
              "50%               3.0  3.230189e+06  \n",
              "75%               4.0  4.227536e+06  \n",
              "max               6.0  1.550231e+07  "
            ]
          },
          "execution_count": 21,
          "metadata": {},
          "output_type": "execute_result"
        }
      ],
      "source": [
        "df_1 = df[(df[\"house_type\"] == \"Mansion\")]\n",
        "df_1[df_1[\"no_of_bathrooms\"].isin([1,2])].describe(include=\"all\")"
      ]
    },
    {
      "cell_type": "markdown",
      "metadata": {
        "id": "Fi8caGmTonP_"
      },
      "source": [
        "Considering the statistical analysis, a definite explanation can't be deduced as to why the number of bathrooms is mostly between 1 and 2 even for Mansions,  because the no of bedrooms, parking space and price has similar statistics to the entire dataset.\n",
        "\n",
        "To investigate further, let's considered the possibility that the number of bedrooms where interchanged with number of bathrooms and the House type that falls within that range, also set a range that a house can only have at most 3 more bathrooms than bedrooms."
      ]
    },
    {
      "cell_type": "code",
      "execution_count": 22,
      "metadata": {
        "id": "o-ezqfCeonP_",
        "outputId": "3923db67-d8b5-4aae-908b-a0b575ee2d81"
      },
      "outputs": [
        {
          "data": {
            "text/plain": [
              "np.int64(2645)"
            ]
          },
          "execution_count": 22,
          "metadata": {},
          "output_type": "execute_result"
        }
      ],
      "source": [
        "((df[\"no_of_bathrooms\"] > df[\"no_of_bedrooms\"])).sum()"
      ]
    },
    {
      "cell_type": "code",
      "execution_count": 23,
      "metadata": {
        "id": "ntJRMvFkonQA",
        "outputId": "b916c9e5-49ba-4cf9-c246-5b0acf4c836c"
      },
      "outputs": [
        {
          "data": {
            "text/html": [
              "<div>\n",
              "<style scoped>\n",
              "    .dataframe tbody tr th:only-of-type {\n",
              "        vertical-align: middle;\n",
              "    }\n",
              "\n",
              "    .dataframe tbody tr th {\n",
              "        vertical-align: top;\n",
              "    }\n",
              "\n",
              "    .dataframe thead th {\n",
              "        text-align: right;\n",
              "    }\n",
              "</style>\n",
              "<table border=\"1\" class=\"dataframe\">\n",
              "  <thead>\n",
              "    <tr style=\"text-align: right;\">\n",
              "      <th></th>\n",
              "      <th>ID</th>\n",
              "      <th>location</th>\n",
              "      <th>house_type</th>\n",
              "      <th>no_of_bedrooms</th>\n",
              "      <th>no_of_bathrooms</th>\n",
              "      <th>parking_space</th>\n",
              "      <th>price</th>\n",
              "    </tr>\n",
              "  </thead>\n",
              "  <tbody>\n",
              "    <tr>\n",
              "      <th>count</th>\n",
              "      <td>671</td>\n",
              "      <td>562</td>\n",
              "      <td>577</td>\n",
              "      <td>671.0</td>\n",
              "      <td>671.0</td>\n",
              "      <td>549.0</td>\n",
              "      <td>6.710000e+02</td>\n",
              "    </tr>\n",
              "    <tr>\n",
              "      <th>unique</th>\n",
              "      <td>671</td>\n",
              "      <td>36</td>\n",
              "      <td>9</td>\n",
              "      <td>&lt;NA&gt;</td>\n",
              "      <td>&lt;NA&gt;</td>\n",
              "      <td>&lt;NA&gt;</td>\n",
              "      <td>NaN</td>\n",
              "    </tr>\n",
              "    <tr>\n",
              "      <th>top</th>\n",
              "      <td>12222</td>\n",
              "      <td>Jigawa</td>\n",
              "      <td>Bungalow</td>\n",
              "      <td>&lt;NA&gt;</td>\n",
              "      <td>&lt;NA&gt;</td>\n",
              "      <td>&lt;NA&gt;</td>\n",
              "      <td>NaN</td>\n",
              "    </tr>\n",
              "    <tr>\n",
              "      <th>freq</th>\n",
              "      <td>1</td>\n",
              "      <td>22</td>\n",
              "      <td>79</td>\n",
              "      <td>&lt;NA&gt;</td>\n",
              "      <td>&lt;NA&gt;</td>\n",
              "      <td>&lt;NA&gt;</td>\n",
              "      <td>NaN</td>\n",
              "    </tr>\n",
              "    <tr>\n",
              "      <th>mean</th>\n",
              "      <td>NaN</td>\n",
              "      <td>NaN</td>\n",
              "      <td>NaN</td>\n",
              "      <td>1.661699</td>\n",
              "      <td>6.341282</td>\n",
              "      <td>3.499089</td>\n",
              "      <td>1.695124e+06</td>\n",
              "    </tr>\n",
              "    <tr>\n",
              "      <th>std</th>\n",
              "      <td>NaN</td>\n",
              "      <td>NaN</td>\n",
              "      <td>NaN</td>\n",
              "      <td>0.753307</td>\n",
              "      <td>0.749972</td>\n",
              "      <td>1.698674</td>\n",
              "      <td>6.561913e+05</td>\n",
              "    </tr>\n",
              "    <tr>\n",
              "      <th>min</th>\n",
              "      <td>NaN</td>\n",
              "      <td>NaN</td>\n",
              "      <td>NaN</td>\n",
              "      <td>1.0</td>\n",
              "      <td>5.0</td>\n",
              "      <td>1.0</td>\n",
              "      <td>8.515465e+05</td>\n",
              "    </tr>\n",
              "    <tr>\n",
              "      <th>25%</th>\n",
              "      <td>NaN</td>\n",
              "      <td>NaN</td>\n",
              "      <td>NaN</td>\n",
              "      <td>1.0</td>\n",
              "      <td>6.0</td>\n",
              "      <td>2.0</td>\n",
              "      <td>1.250617e+06</td>\n",
              "    </tr>\n",
              "    <tr>\n",
              "      <th>50%</th>\n",
              "      <td>NaN</td>\n",
              "      <td>NaN</td>\n",
              "      <td>NaN</td>\n",
              "      <td>1.0</td>\n",
              "      <td>7.0</td>\n",
              "      <td>3.0</td>\n",
              "      <td>1.518814e+06</td>\n",
              "    </tr>\n",
              "    <tr>\n",
              "      <th>75%</th>\n",
              "      <td>NaN</td>\n",
              "      <td>NaN</td>\n",
              "      <td>NaN</td>\n",
              "      <td>2.0</td>\n",
              "      <td>7.0</td>\n",
              "      <td>5.0</td>\n",
              "      <td>1.967604e+06</td>\n",
              "    </tr>\n",
              "    <tr>\n",
              "      <th>max</th>\n",
              "      <td>NaN</td>\n",
              "      <td>NaN</td>\n",
              "      <td>NaN</td>\n",
              "      <td>3.0</td>\n",
              "      <td>7.0</td>\n",
              "      <td>6.0</td>\n",
              "      <td>6.564037e+06</td>\n",
              "    </tr>\n",
              "  </tbody>\n",
              "</table>\n",
              "</div>"
            ],
            "text/plain": [
              "           ID location house_type  no_of_bedrooms  no_of_bathrooms  \\\n",
              "count     671      562        577           671.0            671.0   \n",
              "unique    671       36          9            <NA>             <NA>   \n",
              "top     12222   Jigawa   Bungalow            <NA>             <NA>   \n",
              "freq        1       22         79            <NA>             <NA>   \n",
              "mean      NaN      NaN        NaN        1.661699         6.341282   \n",
              "std       NaN      NaN        NaN        0.753307         0.749972   \n",
              "min       NaN      NaN        NaN             1.0              5.0   \n",
              "25%       NaN      NaN        NaN             1.0              6.0   \n",
              "50%       NaN      NaN        NaN             1.0              7.0   \n",
              "75%       NaN      NaN        NaN             2.0              7.0   \n",
              "max       NaN      NaN        NaN             3.0              7.0   \n",
              "\n",
              "        parking_space         price  \n",
              "count           549.0  6.710000e+02  \n",
              "unique           <NA>           NaN  \n",
              "top              <NA>           NaN  \n",
              "freq             <NA>           NaN  \n",
              "mean         3.499089  1.695124e+06  \n",
              "std          1.698674  6.561913e+05  \n",
              "min               1.0  8.515465e+05  \n",
              "25%               2.0  1.250617e+06  \n",
              "50%               3.0  1.518814e+06  \n",
              "75%               5.0  1.967604e+06  \n",
              "max               6.0  6.564037e+06  "
            ]
          },
          "execution_count": 23,
          "metadata": {},
          "output_type": "execute_result"
        }
      ],
      "source": [
        "#checking the house type, setting a threshold of 3 for the accepted difference between bathrooms and bedrooms\n",
        "df[((df[\"no_of_bathrooms\"] - df[\"no_of_bedrooms\"]) > 3)].describe(include=\"all\")"
      ]
    },
    {
      "cell_type": "markdown",
      "metadata": {
        "id": "Ul7Dv9oaonQA"
      },
      "source": [
        "Although, this hypothesis was incorrect, these instances were seen as been incorrect, so there were latter flag as anomaly."
      ]
    },
    {
      "cell_type": "markdown",
      "metadata": {
        "id": "bzxpoV7HonQA"
      },
      "source": [
        "To further find relation between no of bathroom and other columns, let's examine the relationship between no of bathrooms and price\n"
      ]
    },
    {
      "cell_type": "code",
      "execution_count": 24,
      "metadata": {
        "id": "vJDIxt4NonQA",
        "outputId": "1d3662ff-3d12-445c-d9b0-a72a792d6a85"
      },
      "outputs": [
        {
          "data": {
            "image/png": "[encoded data removed]",
            "text/plain": [
              "<Figure size 1600x500 with 1 Axes>"
            ]
          },
          "metadata": {},
          "output_type": "display_data"
        }
      ],
      "source": [
        "#relationship between the location and price\n",
        "plt.figure(figsize=(16, 5))\n",
        "\n",
        "sns.barplot(data=df[df['no_of_bathrooms'].notna()], x=\"no_of_bathrooms\", y=\"price\", log_scale=True)\n",
        "plt.title(\"Mean Price for different Number of Bathroom\")\n",
        "plt.xticks(rotation=90)\n",
        "plt.show()"
      ]
    },
    {
      "cell_type": "markdown",
      "metadata": {
        "id": "prLmfKgeonQB"
      },
      "source": [
        "The plot illustrates the relationship between the number of bathrooms and the mean price of houses. While there is a general trend that houses with more bathrooms tend to have higher prices, the price ranges for different bathroom counts overlap significantly. For example, some houses with only 1 or 2 bathrooms can have prices similar each other, while houses with 4, 5, 6, 7 no of bathrooms can also have similar prices.\n",
        "\n",
        "This overlap indicates that price alone is not a reliable predictor of the number of bathrooms. Other factors—such as house type, number of bedrooms, and location can also influence the price. Therefore, using only the price to impute or infer the number of bathrooms would likely result in inaccurate or misleading values. A more robust approach should consider multiple features in combination to better capture the underlying relationships in the data.\n",
        "\n"
      ]
    },
    {
      "cell_type": "code",
      "execution_count": 25,
      "metadata": {
        "id": "ilY3X5KnonQB",
        "outputId": "cc76a49d-8d9b-4ba7-99ad-e33bd35b3977"
      },
      "outputs": [
        {
          "data": {
            "text/plain": [
              "<Axes: xlabel='no_of_bedrooms', ylabel='no_of_bathrooms'>"
            ]
          },
          "execution_count": 25,
          "metadata": {},
          "output_type": "execute_result"
        },
        {
          "data": {
            "image/png": "[encoded data removed]",
            "text/plain": [
              "<Figure size 1080x600 with 2 Axes>"
            ]
          },
          "metadata": {},
          "output_type": "display_data"
        }
      ],
      "source": [
        "pivot = df.pivot_table(index='no_of_bathrooms', columns=\"no_of_bedrooms\", values=\"price\", aggfunc=\"mean\")\n",
        "\n",
        "# Set figure size based on number of house types/no_of_bathrooms\n",
        "fig_width = max(8, pivot.shape[1] * 1.2)\n",
        "fig_height = max(6, pivot.shape[0] * 0.8)\n",
        "\n",
        "# Plot heatmap\n",
        "plt.figure(figsize=(fig_width, fig_height))\n",
        "sns.heatmap(pivot, fmt=\".1f\", linewidths=0.5, cmap=\"coolwarm\")"
      ]
    },
    {
      "cell_type": "markdown",
      "metadata": {
        "id": "ReiNpymyonQC"
      },
      "source": [
        "The chart shows the average price of houses by number of bathrooms and number of bedrooms, to show that combining another attribute with price, can properly determine the no of bedrooms a house has.\n",
        "\n",
        "Based on the heatmap, the mean price can be seen to increase as the no of bedroom increase, which also varies with the number of bathrooms. These displays a progression that houses with lower bedroom and lower price also have lower bathroom and vise versa. Which shows that no of bedrooms and price can be used to determine the no of bathrooms in a particular house"
      ]
    },
    {
      "cell_type": "markdown",
      "metadata": {
        "id": "telxRYC3onQC"
      },
      "source": [
        "<b>DETECTING RELATIONSHIP PATTERNS FOR PARKING SPACE </b>"
      ]
    },
    {
      "cell_type": "code",
      "execution_count": 26,
      "metadata": {
        "id": "GBOZug8UonQC",
        "outputId": "a035aaf7-8164-48ef-f771-e73c05b3549e"
      },
      "outputs": [
        {
          "data": {
            "text/plain": [
              "parking_space\n",
              "4    2419\n",
              "2    2394\n",
              "3    2378\n",
              "1    2324\n",
              "6    1345\n",
              "5    1329\n",
              "Name: count, dtype: Int64"
            ]
          },
          "execution_count": 26,
          "metadata": {},
          "output_type": "execute_result"
        }
      ],
      "source": [
        "#Count of house types with the following number of parking spaces.\n",
        "df.parking_space.value_counts()"
      ]
    },
    {
      "cell_type": "markdown",
      "metadata": {
        "id": "haMSw9qbonQC"
      },
      "source": [
        "To determine the variable that has a relationship with parking space, the relationship between Price and parking space was first examined."
      ]
    },
    {
      "cell_type": "code",
      "execution_count": 27,
      "metadata": {
        "id": "xDdPNdwtonQD",
        "outputId": "10c50899-14b3-477f-ab40-b6aa87e8dd23"
      },
      "outputs": [
        {
          "data": {
            "image/png": "[encoded data removed]",
            "text/plain": [
              "<Figure size 1600x500 with 1 Axes>"
            ]
          },
          "metadata": {},
          "output_type": "display_data"
        }
      ],
      "source": [
        "#relationship between the Parking Space and price\n",
        "plt.figure(figsize=(16, 5))\n",
        "\n",
        "sns.barplot(data=df[df[\"parking_space\"].notna()], x=\"parking_space\", y=\"price\", log_scale=True)\n",
        "plt.title(\"Mean Price For each Parking Space\")\n",
        "plt.xticks(rotation=90)\n",
        "plt.show()"
      ]
    },
    {
      "cell_type": "markdown",
      "metadata": {
        "id": "Yr8BdtJyonQD"
      },
      "source": [
        "The chart shows that houses with parking space ranging from 1-4 has little to no difference between the price of the house, also for 5-6 parking space, there is a spike in price compared to 1-4.\n",
        "\n",
        "This relationship does not tell much about the relationship , so therefore inference can't be made with only prices for the parking space. Let's combine the house type with parking space and price"
      ]
    },
    {
      "cell_type": "code",
      "execution_count": 28,
      "metadata": {
        "id": "OAqUCPJXonQD",
        "outputId": "d1d0cdff-5900-42d5-fee0-65fc309d66ee"
      },
      "outputs": [
        {
          "data": {
            "text/plain": [
              "<Axes: xlabel='parking_space', ylabel='house_type'>"
            ]
          },
          "execution_count": 28,
          "metadata": {},
          "output_type": "execute_result"
        },
        {
          "data": {
            "image/png": "[encoded data removed]",
            "text/plain": [
              "<Figure size 800x800 with 2 Axes>"
            ]
          },
          "metadata": {},
          "output_type": "display_data"
        }
      ],
      "source": [
        "pivot = df.pivot_table(index=\"house_type\", columns=\"parking_space\", values=\"price\", aggfunc=\"mean\")\n",
        "pivot.sort_values(by=1, inplace=True)\n",
        "# Set figure size based on number of parking_spaces/no_of_bedrooms\n",
        "fig_width = max(8, pivot.shape[1] * 1.2)\n",
        "fig_height = max(6, pivot.shape[0] * 0.8)\n",
        "\n",
        "# Plot heatmap\n",
        "plt.figure(figsize=(fig_width, fig_height))\n",
        "sns.heatmap(pivot, fmt=\".1f\", linewidths=0.5, cmap=\"coolwarm\")"
      ]
    },
    {
      "cell_type": "markdown",
      "metadata": {
        "id": "hQRXondzonQD"
      },
      "source": [
        "The chart shows the average price of houses by house type and parking space.\n",
        "\n",
        "Based on the heatmap it is can be seen that increase in the no of parking space increases with the mean price for different house types. Thereby, informing that the house type and price can be used to determine the no of parking space.\n"
      ]
    },
    {
      "cell_type": "markdown",
      "metadata": {
        "id": "UXx3KEAKonQE"
      },
      "source": [
        "**SUMMARY OF FINDINGS**\n",
        "\n",
        "From the analysis, the following approach can be taken to replace missing values:\n",
        "<ul>\n",
        "<li>Based on the relationship between the price and house type, the type of house can be inferred using the price.</li>\n",
        "<li>A large variation between the price of houses in lagos and other location, but no significant difference for other location, so therefore the missing location can be replaced with unknown.</li>\n",
        "<li>The price column can be used to determine the missing no_of_bedrooms, because a strong positive correlation was seen between the no_of_bedrooms and price. Also house type can be included, because a more progressive relationship was seen between house type, no of bathroom and price.</li>\n",
        "<li>Furthermore, there is a relationship between no of bedrooms, no of bathrooms and price. Therefore this relationship can be used to determine the missing value for the no of bathrooms columns, using no of  bedrooms and price.</li>\n",
        "<li>Lastly, the dataset was seen to show high difference in price between the house that had 5 and 6 parking space to those that had 1-4 parking space, while also exploring with the house type, there is a proportionality with price for the parking space</li>\n",
        "</ul>"
      ]
    },
    {
      "cell_type": "markdown",
      "metadata": {
        "id": "DNcpnBKwonQE"
      },
      "source": [
        "##### Filling Missing Values"
      ]
    },
    {
      "cell_type": "code",
      "execution_count": 29,
      "metadata": {
        "id": "PNsL-EzQonQE"
      },
      "outputs": [],
      "source": [
        "#function to infer missing values in a target col based on the closest median price\n",
        "def infer_missing_categories(df, target_col, reference_col='price'):\n",
        "    \"\"\"\n",
        "    Infers missing values in a categorical column based on a numerical reference column.\n",
        "\n",
        "    Parameters:\n",
        "        df (pd.DataFrame): The input DataFrame\n",
        "        target_col (str): The categorical column with missing values (e.g., 'no_of_bedrooms')\n",
        "        reference_col (str): The numeric column used for inference (default is 'price')\n",
        "\n",
        "    Returns:\n",
        "        pd.DataFrame: The updated DataFrame with missing target_col values filled\n",
        "    \"\"\"\n",
        "\n",
        "    # Split data into null and non-null parts\n",
        "    df_nulls = df[df[target_col].isnull()]\n",
        "    df_complete = df[df[target_col].notnull()]\n",
        "\n",
        "    # Convert target_col to string to avoid dtype issues (if needed)\n",
        "    df_complete[target_col] = df_complete[target_col].astype(str)\n",
        "\n",
        "    # Group by the target column and compute mean, median, std of reference column\n",
        "    grouped = df_complete.groupby(target_col)[reference_col].agg(\n",
        "        mean_val='mean',\n",
        "        median_val='median',\n",
        "        std_val='std'\n",
        "    )\n",
        "\n",
        "    # Compute bounds\n",
        "    grouped['lower_bound'] = grouped['mean_val'] - grouped['std_val']\n",
        "    grouped['upper_bound'] = grouped['mean_val'] + grouped['std_val']\n",
        "    grouped.reset_index(inplace=True)\n",
        "\n",
        "\n",
        "    # Define inference function\n",
        "    def infer_value(ref_val):\n",
        "        in_bounds = grouped[\n",
        "            (grouped['lower_bound'] <= ref_val) & (ref_val <= grouped['upper_bound'])\n",
        "        ]\n",
        "        if not in_bounds.empty:\n",
        "            closest = in_bounds.iloc[(in_bounds['median_val'] - ref_val).abs().argmin()]\n",
        "            return closest[target_col]\n",
        "\n",
        "        # If no in-bound match, find the closest boundary\n",
        "        grouped['boundary_distance'] = grouped.apply(\n",
        "            lambda row: min(abs(ref_val - row['lower_bound']), abs(ref_val - row['upper_bound'])),\n",
        "            axis=1\n",
        "        )\n",
        "        closest_boundary = grouped.loc[grouped['boundary_distance'].idxmin()]\n",
        "        return closest_boundary[target_col]\n",
        "\n",
        "    # Apply inference to null values\n",
        "    df[target_col] = df.apply(\n",
        "        lambda row: infer_value(row[reference_col]) if pd.isnull(row[target_col]) else row[target_col],\n",
        "        axis=1\n",
        "    )\n",
        "\n",
        "    return df\n"
      ]
    },
    {
      "cell_type": "markdown",
      "metadata": {
        "id": "0X2ipwCRonQE"
      },
      "source": [
        "<b>House Type column:</b> To handle the missing data in the house_type column, the price column where used by doing the following;\n",
        "<ol>\n",
        "<li>Rows with non null values in the house_type columns were extracted.</li>\n",
        "<li>The extracted dataset was then grouped by house_type, calculating the mean, median and std prices. Also a lower and upper price boundary was set using the mean and std.</li>\n",
        "<li>The price of rows with missing house_type values were then compared with the boundaries of all available house_type values, and the house_type value was predicted as the one with the closest median price.</li>\n",
        "<li>For prices that falls outside the boundaries of all house_type values the closest boundary house_type was used.</li>\n",
        "</ol>"
      ]
    },
    {
      "cell_type": "code",
      "execution_count": 30,
      "metadata": {
        "id": "tpuEm2wBonQE",
        "outputId": "50445038-7a4d-4969-b2c4-e80ca2ae7efd"
      },
      "outputs": [
        {
          "name": "stdout",
          "output_type": "stream",
          "text": [
            "<class 'pandas.core.frame.DataFrame'>\n",
            "RangeIndex: 14000 entries, 0 to 13999\n",
            "Data columns (total 7 columns):\n",
            " #   Column           Non-Null Count  Dtype  \n",
            "---  ------           --------------  -----  \n",
            " 0   ID               14000 non-null  object \n",
            " 1   location         12187 non-null  object \n",
            " 2   house_type       14000 non-null  object \n",
            " 3   no_of_bedrooms   12201 non-null  Int64  \n",
            " 4   no_of_bathrooms  12195 non-null  Int64  \n",
            " 5   parking_space    12189 non-null  Int64  \n",
            " 6   price            14000 non-null  float64\n",
            "dtypes: Int64(3), float64(1), object(3)\n",
            "memory usage: 806.8+ KB\n"
          ]
        }
      ],
      "source": [
        "# Or infer missing 'house_type' from 'price', etc.\n",
        "df = infer_missing_categories(df, target_col='house_type', reference_col='price')\n",
        "\n",
        "df.info()"
      ]
    },
    {
      "cell_type": "markdown",
      "metadata": {
        "id": "4RpU66oMonQF"
      },
      "source": [
        "<b>Bedrooms Column and Parking Space Column:</b> To handle the missing column in the no of bedroom and parking space columns;\n",
        "<ol>\n",
        "<li>The dataframe was first divided into sub dataframe for each house types.</li>\n",
        "<li>Rows with non null values in the no_of_bedrooms columns were extracted.</li>\n",
        "<li>The extracted dataset was then grouped by no_of_bedroom, calculating the mean, median and std prices. Also a lower and upper price boundary was set using the mean and std.</li>\n",
        "<li>The price of rows with missing no_of_bedroom values were then compared with the boundaries of all available no_of_bedroom values, and the no_of_bedroom value was predicted as the one with the closest median price.</li>\n",
        "<li>For prices that falls outside the boundaries of all no_of_bedroom values the closest boundary no_of_bedroom was used.</li>\n",
        "<li>The above process from 2 - 5 was then repeated for parking space column</l>\n",
        "</ol>"
      ]
    },
    {
      "cell_type": "code",
      "execution_count": 31,
      "metadata": {
        "id": "zuG0BL9yonQF"
      },
      "outputs": [],
      "source": [
        "binned_df = {}\n",
        "\n",
        "df_clean = df.reset_index()\n",
        "\n",
        "house_types = list(df.house_type.unique())\n",
        "\n",
        "for house_type in house_types:\n",
        "  binned_df[house_type] = df_clean[df_clean[\"house_type\"] == house_type]\n",
        "\n",
        "\n",
        "cleaned_binned_df = {}\n",
        "for k, v in binned_df.items():\n",
        "  #inferring for number of bedrooms\n",
        "  v = infer_missing_categories(v, target_col='no_of_bedrooms', reference_col='price')\n",
        "  v[\"no_of_bedrooms\"] = pd.to_numeric(v[\"no_of_bedrooms\"])\n",
        "  #inferring for number of parking_space\n",
        "  v = infer_missing_categories(v, target_col='parking_space', reference_col='price')\n",
        "  v[\"parking_space\"] = pd.to_numeric(v[\"parking_space\"])\n",
        "\n",
        "\n",
        "\n",
        "  cleaned_binned_df[k] = v"
      ]
    },
    {
      "cell_type": "code",
      "execution_count": 32,
      "metadata": {
        "id": "_U1rx0yNonQF",
        "outputId": "452fa732-a58d-412b-ccf1-608b49d1a537"
      },
      "outputs": [
        {
          "name": "stdout",
          "output_type": "stream",
          "text": [
            "<class 'pandas.core.frame.DataFrame'>\n",
            "RangeIndex: 14000 entries, 0 to 13999\n",
            "Data columns (total 8 columns):\n",
            " #   Column           Non-Null Count  Dtype  \n",
            "---  ------           --------------  -----  \n",
            " 0   index            14000 non-null  int64  \n",
            " 1   ID               14000 non-null  object \n",
            " 2   location         12187 non-null  object \n",
            " 3   house_type       14000 non-null  object \n",
            " 4   no_of_bedrooms   14000 non-null  int64  \n",
            " 5   no_of_bathrooms  12195 non-null  Int64  \n",
            " 6   parking_space    14000 non-null  int64  \n",
            " 7   price            14000 non-null  float64\n",
            "dtypes: Int64(1), float64(1), int64(3), object(3)\n",
            "memory usage: 888.8+ KB\n"
          ]
        }
      ],
      "source": [
        "df_clean = pd.concat(cleaned_binned_df.values(), ignore_index=True)\n",
        "\n",
        "df_clean.info()"
      ]
    },
    {
      "cell_type": "markdown",
      "metadata": {
        "id": "haj1D3PoonQF"
      },
      "source": [
        "<b>Bathrooms:</b> To handle the missing column in the number of bathrooms column;\n",
        "<ol>\n",
        "<li>The dataframe were divided into sub dataframe for each no of bedrooms.</li>\n",
        "<li>Rows with non null values in the no of bathrooms columns were extracted.</li>\n",
        "<li>The extracted dataset was then grouped by no of bathrooms, calculating the mean, median and std prices. Also a lower and upper price boundary was set using the mean and std.</li>\n",
        "<li>The price of rows with missing values were then compared with the boundaries of all available unique values of the no of bathrooms. The missing value was then predicted as the one with the closest median price.</li>\n",
        "<li>For prices that falls outside the boundaries of all no of bathrooms, the closest boundary value was used.</li>\n",
        "</ol>"
      ]
    },
    {
      "cell_type": "code",
      "execution_count": 33,
      "metadata": {
        "id": "_48ACo4-onQG"
      },
      "outputs": [],
      "source": [
        "binned_df = {}\n",
        "\n",
        "no_of_bedrooms = [1, 2, 3, 4, 5, 6, 7, 8, 9]\n",
        "\n",
        "for no in no_of_bedrooms:\n",
        "  binned_df[no] = df_clean[df_clean[\"no_of_bedrooms\"] == no]\n",
        "\n",
        "\n",
        "cleaned_binned_df = {}\n",
        "for k, v in binned_df.items():\n",
        "  #inferring for no of bathrooms\n",
        "  v = infer_missing_categories(v, target_col='no_of_bathrooms', reference_col='price')\n",
        "  v[\"no_of_bathrooms\"] = pd.to_numeric(v[\"no_of_bathrooms\"])\n",
        "\n",
        "\n",
        "  cleaned_binned_df[k] = v"
      ]
    },
    {
      "cell_type": "code",
      "execution_count": 34,
      "metadata": {
        "id": "SQRGDsRbonQG",
        "outputId": "bfadf19d-c4f9-483c-bca8-daec753812f3"
      },
      "outputs": [
        {
          "name": "stdout",
          "output_type": "stream",
          "text": [
            "<class 'pandas.core.frame.DataFrame'>\n",
            "Index: 14000 entries, 0 to 13999\n",
            "Data columns (total 7 columns):\n",
            " #   Column           Non-Null Count  Dtype  \n",
            "---  ------           --------------  -----  \n",
            " 0   ID               14000 non-null  object \n",
            " 1   location         12187 non-null  object \n",
            " 2   house_type       14000 non-null  object \n",
            " 3   no_of_bedrooms   14000 non-null  int64  \n",
            " 4   no_of_bathrooms  14000 non-null  int64  \n",
            " 5   parking_space    14000 non-null  int64  \n",
            " 6   price            14000 non-null  float64\n",
            "dtypes: float64(1), int64(3), object(3)\n",
            "memory usage: 875.0+ KB\n"
          ]
        }
      ],
      "source": [
        "df_clean = pd.concat(cleaned_binned_df.values(), ignore_index=True).sort_values(by='index')\n",
        "df_clean.set_index('index', inplace=True)\n",
        "\n",
        "df_clean.info()"
      ]
    },
    {
      "cell_type": "markdown",
      "metadata": {
        "id": "pahkcdN8onQH"
      },
      "source": [
        "<b>Location Columm:</b> The location column missing values were replaced with a default value \"Unknown\""
      ]
    },
    {
      "cell_type": "code",
      "execution_count": 35,
      "metadata": {
        "id": "nBJG4qFHonQH"
      },
      "outputs": [],
      "source": [
        "df_clean['location'] =  df_clean[\"location\"].fillna(\"Unknown\")"
      ]
    },
    {
      "cell_type": "code",
      "execution_count": 36,
      "metadata": {
        "id": "_XpjORI3onQH",
        "outputId": "6e3d4da7-f4bb-437a-8f80-f37b2a63ce3f"
      },
      "outputs": [
        {
          "name": "stdout",
          "output_type": "stream",
          "text": [
            "<class 'pandas.core.frame.DataFrame'>\n",
            "Index: 14000 entries, 0 to 13999\n",
            "Data columns (total 7 columns):\n",
            " #   Column           Non-Null Count  Dtype  \n",
            "---  ------           --------------  -----  \n",
            " 0   ID               14000 non-null  object \n",
            " 1   location         14000 non-null  object \n",
            " 2   house_type       14000 non-null  object \n",
            " 3   no_of_bedrooms   14000 non-null  int64  \n",
            " 4   no_of_bathrooms  14000 non-null  int64  \n",
            " 5   parking_space    14000 non-null  int64  \n",
            " 6   price            14000 non-null  float64\n",
            "dtypes: float64(1), int64(3), object(3)\n",
            "memory usage: 875.0+ KB\n"
          ]
        }
      ],
      "source": [
        "df_clean.info()"
      ]
    },
    {
      "cell_type": "code",
      "execution_count": 37,
      "metadata": {
        "id": "ilOv_imHonQI"
      },
      "outputs": [],
      "source": [
        "#saving the clean dataframe\n",
        "df_clean.to_csv(r\"Wazobia_cleaned_out.csv\", index=False)"
      ]
    },
    {
      "cell_type": "markdown",
      "metadata": {
        "id": "QKzr2eGBonQI"
      },
      "source": [
        "#### 4. Outliers"
      ]
    },
    {
      "cell_type": "markdown",
      "metadata": {
        "id": "vb1VZv93onQI"
      },
      "source": [
        "**Visualization of outliers in prices by house type**"
      ]
    },
    {
      "cell_type": "code",
      "execution_count": 38,
      "metadata": {
        "id": "704KIXPronQJ",
        "outputId": "36f9f54f-376a-43ca-af10-9fb1445ad17e"
      },
      "outputs": [
        {
          "data": {
            "image/png": "[encoded data removed]",
            "text/plain": [
              "<Figure size 700x500 with 1 Axes>"
            ]
          },
          "metadata": {},
          "output_type": "display_data"
        }
      ],
      "source": [
        "# Create the boxplot to check for outliers in each title value\n",
        "plt.figure(figsize=(7, 5))\n",
        "sns.boxplot(x='house_type', y='price', data=df_clean)\n",
        "\n",
        "\n",
        "# Customize the plot\n",
        "plt.title(\"Boxplot of Price by Title\")\n",
        "plt.xlabel(\"house_type\")\n",
        "plt.ylabel(\"Price\")\n",
        "plt.xticks(rotation=90)\n",
        "plt.grid(True)\n",
        "plt.tight_layout()\n",
        "\n",
        "# Show the plot\n",
        "plt.show()"
      ]
    },
    {
      "cell_type": "markdown",
      "metadata": {
        "id": "FjTICxPjonQJ"
      },
      "source": [
        "The plot visualizes the distribution of house prices across different house types, highlighting the presence of outliers. Outliers are represented as points that fall outside the whiskers of each box, indicating properties with prices significantly higher than the typical range for their category.\n",
        "\n",
        "From the plot, it is evident that luxury house types such as Mansions and Penthouses exhibit the most pronounced price outliers, with several properties priced far above the median. Other house types, including Detached Duplexes and Terrace Duplexes, also show some high-value outliers, though to a lesser extent. More affordable house types like Flats, Apartments, and Cottages generally have fewer and less extreme outliers, reflecting a narrower price range.\n",
        "\n",
        "Overall, the plot demonstrates that while most house types have a relatively consistent price distribution, luxury properties are more likely to have extreme high-value outliers, contributing to the upper end of the market.\n",
        "\n"
      ]
    },
    {
      "cell_type": "markdown",
      "metadata": {
        "id": "rGFhZJmBonQJ"
      },
      "source": [
        "**Investigating the outliers**\n",
        "\n",
        "The goal of this step is to select the top 5% of house prices in the dataset and display statistical information on them."
      ]
    },
    {
      "cell_type": "code",
      "execution_count": 39,
      "metadata": {
        "id": "8HdfMFwxonQK",
        "outputId": "64ccaaf0-ee54-4775-8ac6-87d6c82f61ce"
      },
      "outputs": [
        {
          "data": {
            "text/html": [
              "<div>\n",
              "<style scoped>\n",
              "    .dataframe tbody tr th:only-of-type {\n",
              "        vertical-align: middle;\n",
              "    }\n",
              "\n",
              "    .dataframe tbody tr th {\n",
              "        vertical-align: top;\n",
              "    }\n",
              "\n",
              "    .dataframe thead th {\n",
              "        text-align: right;\n",
              "    }\n",
              "</style>\n",
              "<table border=\"1\" class=\"dataframe\">\n",
              "  <thead>\n",
              "    <tr style=\"text-align: right;\">\n",
              "      <th></th>\n",
              "      <th>ID</th>\n",
              "      <th>location</th>\n",
              "      <th>house_type</th>\n",
              "      <th>no_of_bedrooms</th>\n",
              "      <th>no_of_bathrooms</th>\n",
              "      <th>parking_space</th>\n",
              "      <th>price</th>\n",
              "    </tr>\n",
              "  </thead>\n",
              "  <tbody>\n",
              "    <tr>\n",
              "      <th>count</th>\n",
              "      <td>700</td>\n",
              "      <td>700</td>\n",
              "      <td>700</td>\n",
              "      <td>700.000000</td>\n",
              "      <td>700.000000</td>\n",
              "      <td>700.000000</td>\n",
              "      <td>7.000000e+02</td>\n",
              "    </tr>\n",
              "    <tr>\n",
              "      <th>unique</th>\n",
              "      <td>696</td>\n",
              "      <td>36</td>\n",
              "      <td>9</td>\n",
              "      <td>NaN</td>\n",
              "      <td>NaN</td>\n",
              "      <td>NaN</td>\n",
              "      <td>NaN</td>\n",
              "    </tr>\n",
              "    <tr>\n",
              "      <th>top</th>\n",
              "      <td>3122</td>\n",
              "      <td>Lagos</td>\n",
              "      <td>Mansion</td>\n",
              "      <td>NaN</td>\n",
              "      <td>NaN</td>\n",
              "      <td>NaN</td>\n",
              "      <td>NaN</td>\n",
              "    </tr>\n",
              "    <tr>\n",
              "      <th>freq</th>\n",
              "      <td>2</td>\n",
              "      <td>136</td>\n",
              "      <td>537</td>\n",
              "      <td>NaN</td>\n",
              "      <td>NaN</td>\n",
              "      <td>NaN</td>\n",
              "      <td>NaN</td>\n",
              "    </tr>\n",
              "    <tr>\n",
              "      <th>mean</th>\n",
              "      <td>NaN</td>\n",
              "      <td>NaN</td>\n",
              "      <td>NaN</td>\n",
              "      <td>6.498571</td>\n",
              "      <td>3.845714</td>\n",
              "      <td>3.461429</td>\n",
              "      <td>5.257966e+06</td>\n",
              "    </tr>\n",
              "    <tr>\n",
              "      <th>std</th>\n",
              "      <td>NaN</td>\n",
              "      <td>NaN</td>\n",
              "      <td>NaN</td>\n",
              "      <td>2.303508</td>\n",
              "      <td>2.127327</td>\n",
              "      <td>1.734097</td>\n",
              "      <td>1.437432e+06</td>\n",
              "    </tr>\n",
              "    <tr>\n",
              "      <th>min</th>\n",
              "      <td>NaN</td>\n",
              "      <td>NaN</td>\n",
              "      <td>NaN</td>\n",
              "      <td>1.000000</td>\n",
              "      <td>1.000000</td>\n",
              "      <td>1.000000</td>\n",
              "      <td>4.169674e+06</td>\n",
              "    </tr>\n",
              "    <tr>\n",
              "      <th>25%</th>\n",
              "      <td>NaN</td>\n",
              "      <td>NaN</td>\n",
              "      <td>NaN</td>\n",
              "      <td>5.000000</td>\n",
              "      <td>2.000000</td>\n",
              "      <td>2.000000</td>\n",
              "      <td>4.487128e+06</td>\n",
              "    </tr>\n",
              "    <tr>\n",
              "      <th>50%</th>\n",
              "      <td>NaN</td>\n",
              "      <td>NaN</td>\n",
              "      <td>NaN</td>\n",
              "      <td>7.000000</td>\n",
              "      <td>4.000000</td>\n",
              "      <td>3.000000</td>\n",
              "      <td>4.866242e+06</td>\n",
              "    </tr>\n",
              "    <tr>\n",
              "      <th>75%</th>\n",
              "      <td>NaN</td>\n",
              "      <td>NaN</td>\n",
              "      <td>NaN</td>\n",
              "      <td>9.000000</td>\n",
              "      <td>6.000000</td>\n",
              "      <td>5.000000</td>\n",
              "      <td>5.520949e+06</td>\n",
              "    </tr>\n",
              "    <tr>\n",
              "      <th>max</th>\n",
              "      <td>NaN</td>\n",
              "      <td>NaN</td>\n",
              "      <td>NaN</td>\n",
              "      <td>9.000000</td>\n",
              "      <td>7.000000</td>\n",
              "      <td>6.000000</td>\n",
              "      <td>1.656849e+07</td>\n",
              "    </tr>\n",
              "  </tbody>\n",
              "</table>\n",
              "</div>"
            ],
            "text/plain": [
              "          ID location house_type  no_of_bedrooms  no_of_bathrooms  \\\n",
              "count    700      700        700      700.000000       700.000000   \n",
              "unique   696       36          9             NaN              NaN   \n",
              "top     3122    Lagos    Mansion             NaN              NaN   \n",
              "freq       2      136        537             NaN              NaN   \n",
              "mean     NaN      NaN        NaN        6.498571         3.845714   \n",
              "std      NaN      NaN        NaN        2.303508         2.127327   \n",
              "min      NaN      NaN        NaN        1.000000         1.000000   \n",
              "25%      NaN      NaN        NaN        5.000000         2.000000   \n",
              "50%      NaN      NaN        NaN        7.000000         4.000000   \n",
              "75%      NaN      NaN        NaN        9.000000         6.000000   \n",
              "max      NaN      NaN        NaN        9.000000         7.000000   \n",
              "\n",
              "        parking_space         price  \n",
              "count      700.000000  7.000000e+02  \n",
              "unique            NaN           NaN  \n",
              "top               NaN           NaN  \n",
              "freq              NaN           NaN  \n",
              "mean         3.461429  5.257966e+06  \n",
              "std          1.734097  1.437432e+06  \n",
              "min          1.000000  4.169674e+06  \n",
              "25%          2.000000  4.487128e+06  \n",
              "50%          3.000000  4.866242e+06  \n",
              "75%          5.000000  5.520949e+06  \n",
              "max          6.000000  1.656849e+07  "
            ]
          },
          "execution_count": 39,
          "metadata": {},
          "output_type": "execute_result"
        }
      ],
      "source": [
        "percentile = df_clean[\"price\"].quantile(0.95)\n",
        "outlier_df = df_clean[df_clean[\"price\"]  > percentile]\n",
        "outlier_df.describe(include=\"all\")"
      ]
    },
    {
      "cell_type": "markdown",
      "metadata": {
        "id": "tK08aPo2onQK"
      },
      "source": [
        "Overall,there were 700 houses that falls within the extreme high price region. Further investigations were carried out."
      ]
    },
    {
      "cell_type": "code",
      "execution_count": 40,
      "metadata": {
        "id": "i_yYeDTUonQK",
        "outputId": "9a3137a5-bc09-4aca-f2f9-b37cf07870c0"
      },
      "outputs": [
        {
          "data": {
            "text/plain": [
              "house_type\n",
              "Mansion                 537\n",
              "Penthouse                72\n",
              "Detached duplex          29\n",
              "Townhouse                17\n",
              "Semi-detached duplex     14\n",
              "Terrace duplex           14\n",
              "Cottage                   6\n",
              "Bungalow                  6\n",
              "Flat                      5\n",
              "Name: count, dtype: int64"
            ]
          },
          "execution_count": 40,
          "metadata": {},
          "output_type": "execute_result"
        }
      ],
      "source": [
        "outlier_df.house_type.value_counts()"
      ]
    },
    {
      "cell_type": "markdown",
      "metadata": {
        "id": "UAIYsdU-onQL"
      },
      "source": [
        "Investigating the cottages to infer what might be the cause of the high price"
      ]
    },
    {
      "cell_type": "code",
      "execution_count": 41,
      "metadata": {
        "id": "6B7LQsKVonQL",
        "outputId": "7d2d35c7-529b-42dc-e252-99a077fc862a"
      },
      "outputs": [
        {
          "data": {
            "text/html": [
              "<div>\n",
              "<style scoped>\n",
              "    .dataframe tbody tr th:only-of-type {\n",
              "        vertical-align: middle;\n",
              "    }\n",
              "\n",
              "    .dataframe tbody tr th {\n",
              "        vertical-align: top;\n",
              "    }\n",
              "\n",
              "    .dataframe thead th {\n",
              "        text-align: right;\n",
              "    }\n",
              "</style>\n",
              "<table border=\"1\" class=\"dataframe\">\n",
              "  <thead>\n",
              "    <tr style=\"text-align: right;\">\n",
              "      <th></th>\n",
              "      <th>ID</th>\n",
              "      <th>location</th>\n",
              "      <th>house_type</th>\n",
              "      <th>no_of_bedrooms</th>\n",
              "      <th>no_of_bathrooms</th>\n",
              "      <th>parking_space</th>\n",
              "      <th>price</th>\n",
              "    </tr>\n",
              "    <tr>\n",
              "      <th>index</th>\n",
              "      <th></th>\n",
              "      <th></th>\n",
              "      <th></th>\n",
              "      <th></th>\n",
              "      <th></th>\n",
              "      <th></th>\n",
              "      <th></th>\n",
              "    </tr>\n",
              "  </thead>\n",
              "  <tbody>\n",
              "    <tr>\n",
              "      <th>1738</th>\n",
              "      <td>1050</td>\n",
              "      <td>Lagos</td>\n",
              "      <td>Cottage</td>\n",
              "      <td>5</td>\n",
              "      <td>1</td>\n",
              "      <td>2</td>\n",
              "      <td>5359255.239</td>\n",
              "    </tr>\n",
              "    <tr>\n",
              "      <th>2001</th>\n",
              "      <td>487</td>\n",
              "      <td>Lagos</td>\n",
              "      <td>Cottage</td>\n",
              "      <td>4</td>\n",
              "      <td>1</td>\n",
              "      <td>2</td>\n",
              "      <td>4639239.258</td>\n",
              "    </tr>\n",
              "    <tr>\n",
              "      <th>2555</th>\n",
              "      <td>3774</td>\n",
              "      <td>Lagos</td>\n",
              "      <td>Cottage</td>\n",
              "      <td>2</td>\n",
              "      <td>2</td>\n",
              "      <td>3</td>\n",
              "      <td>4338360.593</td>\n",
              "    </tr>\n",
              "    <tr>\n",
              "      <th>11188</th>\n",
              "      <td>2681</td>\n",
              "      <td>Lagos</td>\n",
              "      <td>Cottage</td>\n",
              "      <td>4</td>\n",
              "      <td>2</td>\n",
              "      <td>2</td>\n",
              "      <td>4820875.479</td>\n",
              "    </tr>\n",
              "    <tr>\n",
              "      <th>11464</th>\n",
              "      <td>2428</td>\n",
              "      <td>Lagos</td>\n",
              "      <td>Cottage</td>\n",
              "      <td>4</td>\n",
              "      <td>2</td>\n",
              "      <td>2</td>\n",
              "      <td>4863928.203</td>\n",
              "    </tr>\n",
              "    <tr>\n",
              "      <th>12466</th>\n",
              "      <td>3188</td>\n",
              "      <td>Lagos</td>\n",
              "      <td>Cottage</td>\n",
              "      <td>4</td>\n",
              "      <td>1</td>\n",
              "      <td>2</td>\n",
              "      <td>4851586.158</td>\n",
              "    </tr>\n",
              "  </tbody>\n",
              "</table>\n",
              "</div>"
            ],
            "text/plain": [
              "         ID location house_type  no_of_bedrooms  no_of_bathrooms  \\\n",
              "index                                                              \n",
              "1738   1050    Lagos    Cottage               5                1   \n",
              "2001    487    Lagos    Cottage               4                1   \n",
              "2555   3774    Lagos    Cottage               2                2   \n",
              "11188  2681    Lagos    Cottage               4                2   \n",
              "11464  2428    Lagos    Cottage               4                2   \n",
              "12466  3188    Lagos    Cottage               4                1   \n",
              "\n",
              "       parking_space        price  \n",
              "index                              \n",
              "1738               2  5359255.239  \n",
              "2001               2  4639239.258  \n",
              "2555               3  4338360.593  \n",
              "11188              2  4820875.479  \n",
              "11464              2  4863928.203  \n",
              "12466              2  4851586.158  "
            ]
          },
          "execution_count": 41,
          "metadata": {},
          "output_type": "execute_result"
        }
      ],
      "source": [
        "outlier_df[outlier_df[\"house_type\"].isin([\"Cottage\"])]"
      ]
    },
    {
      "cell_type": "markdown",
      "metadata": {
        "id": "cIWFnQVQonQL"
      },
      "source": [
        "It shows that the only reason this cottages had high price were because they were located in Lagos"
      ]
    },
    {
      "cell_type": "markdown",
      "metadata": {
        "id": "AajSGweponQL"
      },
      "source": [
        "This outliers were left because most of them were found in lagos. "
      ]
    },
    {
      "cell_type": "code",
      "execution_count": 42,
      "metadata": {
        "id": "ICCC3w18onQN"
      },
      "outputs": [],
      "source": [
        "#saving the clean dataframe\n",
        "df_clean.to_csv(r\"Wazobia_cleaned.csv\", index=False)"
      ]
    },
    {
      "cell_type": "markdown",
      "metadata": {
        "id": "p9lyKb3AonQN"
      },
      "source": [
        "#### Highlighting Anomalies found in the Dataset"
      ]
    },
    {
      "cell_type": "markdown",
      "metadata": {
        "id": "b2kunpkzonQO"
      },
      "source": [
        "1. **Unusual Bedroom-Bathroom Combinations in Different Houses Types:**  \n",
        "    There were numerous cases, especially among Mansions and Penthouses, where the number of bedrooms is very high (8 or 9), but the number of bathrooms <br>is unusually low (1 or 2). This is inconsistent with typical luxury property standards, where a higher number of bathrooms is expected.\n",
        "\n",
        "2. **Unusual Bathrom-Bedroom Combination:**  \n",
        "    A significant number of records have more bathrooms than bedrooms, or a difference greater than 6 between the two. This pattern suggests that an error exist in those cases.\n",
        "\n",
        "3. **Duplicated or Highly Similar Records:**  \n",
        "    Although duplicates were checked considering the entire columns, but excluding the ID, some duplicates were seen. It is possible that some records are not exact duplicates but are highly similar (e.g., same price, house type, no of bedrooms and no of bathrooms). These should be reviewed for potential redundancy or data entry errors.\n",
        "\n",
        "**Recommendation:**  \n",
        "A thorough review of the above anomalies is advised, especially for luxury properties and outlier price points. Cross-checking with the data source or original listings may help clarify whether these are genuine cases or data quality issues.\n"
      ]
    },
    {
      "cell_type": "markdown",
      "metadata": {
        "id": "nqpgEK7XonQO"
      },
      "source": [
        "##### **Anomaly Column**"
      ]
    },
    {
      "cell_type": "markdown",
      "metadata": {
        "id": "z33Kxi58onQO"
      },
      "source": [
        "To indicate this column, a custom logic was defined to detect \"suspicious\" or \"anomalous\" entries using a function. These include unrealistic bedroom-to-bathroom ratios, parking space inconsistencies, and unusually high prices for certain house types. <br>A new column called anomaly_house was created to flag these rows."
      ]
    },
    {
      "cell_type": "code",
      "execution_count": 43,
      "metadata": {
        "id": "D7IC_XcSonQO"
      },
      "outputs": [],
      "source": [
        "# Define anomaly conditions for each row\n",
        "def detect_anomaly(row):\n",
        "    bedrooms = row[\"no_of_bedrooms\"]\n",
        "    bathrooms = row[\"no_of_bathrooms\"]\n",
        "    house_type = row[\"house_type\"].lower()\n",
        "    value = row[\"price\"]\n",
        "\n",
        "    condition1 = abs(bedrooms - bathrooms) > 5\n",
        "    condition2 = (bathrooms - bedrooms) > 3\n",
        "\n",
        "    return condition1 or condition2\n",
        "\n",
        "\n",
        "# Apply anomaly detection to df_clean\n",
        "df_clean_anomaly = df_clean.copy()\n",
        "df_clean_anomaly['anomaly_house'] = df_clean_anomaly.apply(detect_anomaly, axis=1)\n",
        "\n",
        "#flag duplicates excluding ID\n",
        "duplicate_index = df_clean_anomaly[df_clean_anomaly.drop(columns=['ID']).duplicated(keep=False)].sort_values(by=[\"location\",\"house_type\", \"no_of_bedrooms\"]).index\n",
        "df_clean_anomaly.loc[duplicate_index, 'anomaly_house'] = True"
      ]
    },
    {
      "cell_type": "code",
      "execution_count": 44,
      "metadata": {
        "id": "DuaQ19VvonQP",
        "outputId": "cbcd17aa-75a0-4a73-cafe-6623b2622f77"
      },
      "outputs": [
        {
          "data": {
            "text/plain": [
              "anomaly_house\n",
              "False    11899\n",
              "True      2101\n",
              "Name: count, dtype: int64"
            ]
          },
          "execution_count": 44,
          "metadata": {},
          "output_type": "execute_result"
        }
      ],
      "source": [
        "df_clean_anomaly['anomaly_house'].value_counts()"
      ]
    },
    {
      "cell_type": "code",
      "execution_count": 45,
      "metadata": {
        "id": "zYZkz3x9onQP"
      },
      "outputs": [],
      "source": [
        "df_clean_anomaly = df_clean[df_clean_anomaly['anomaly_house'] == True].reset_index()\n",
        "\n",
        "#saving the anomaly dataframe\n",
        "df_clean_anomaly.to_csv(r\"Wazobia_cleaned_anomaly.csv\", index=False)"
      ]
    },
    {
      "cell_type": "markdown",
      "metadata": {
        "id": "zJ_1DBLLonQP"
      },
      "source": [
        "### **MODEL DEVELOPMENT**"
      ]
    },
    {
      "cell_type": "markdown",
      "metadata": {},
      "source": [
        "### **Let’s start with Step 1: Import Required Libraries.**"
      ]
    },
    {
      "cell_type": "code",
      "execution_count": 46,
      "metadata": {
        "id": "Rl18U88LonQQ"
      },
      "outputs": [],
      "source": [
        "import pandas as pd\n",
        "import numpy as np\n",
        "from sklearn.model_selection import train_test_split\n",
        "from sklearn.linear_model import LinearRegression\n",
        "from sklearn.metrics import mean_squared_error\n",
        "from sklearn.model_selection import GridSearchCV\n",
        "from sklearn.preprocessing import OneHotEncoder"
      ]
    },
    {
      "cell_type": "markdown",
      "metadata": {},
      "source": [
        "### **Step 2: Load dataset**"
      ]
    },
    {
      "cell_type": "code",
      "execution_count": 47,
      "metadata": {
        "id": "0jxxXLALonQQ",
        "outputId": "f5babc32-e11b-4c49-a0da-802c90a60d66"
      },
      "outputs": [
        {
          "data": {
            "text/html": [
              "<div>\n",
              "<style scoped>\n",
              "    .dataframe tbody tr th:only-of-type {\n",
              "        vertical-align: middle;\n",
              "    }\n",
              "\n",
              "    .dataframe tbody tr th {\n",
              "        vertical-align: top;\n",
              "    }\n",
              "\n",
              "    .dataframe thead th {\n",
              "        text-align: right;\n",
              "    }\n",
              "</style>\n",
              "<table border=\"1\" class=\"dataframe\">\n",
              "  <thead>\n",
              "    <tr style=\"text-align: right;\">\n",
              "      <th></th>\n",
              "      <th>ID</th>\n",
              "      <th>location</th>\n",
              "      <th>house_type</th>\n",
              "      <th>no_of_bedrooms</th>\n",
              "      <th>no_of_bathrooms</th>\n",
              "      <th>parking_space</th>\n",
              "      <th>price</th>\n",
              "    </tr>\n",
              "  </thead>\n",
              "  <tbody>\n",
              "    <tr>\n",
              "      <th>0</th>\n",
              "      <td>3583</td>\n",
              "      <td>Katsina</td>\n",
              "      <td>Semi-detached duplex</td>\n",
              "      <td>2</td>\n",
              "      <td>2</td>\n",
              "      <td>1</td>\n",
              "      <td>1149999.565</td>\n",
              "    </tr>\n",
              "    <tr>\n",
              "      <th>1</th>\n",
              "      <td>2748</td>\n",
              "      <td>Ondo</td>\n",
              "      <td>Apartment</td>\n",
              "      <td>5</td>\n",
              "      <td>2</td>\n",
              "      <td>4</td>\n",
              "      <td>1672416.689</td>\n",
              "    </tr>\n",
              "    <tr>\n",
              "      <th>2</th>\n",
              "      <td>9261</td>\n",
              "      <td>Ekiti</td>\n",
              "      <td>Mansion</td>\n",
              "      <td>7</td>\n",
              "      <td>5</td>\n",
              "      <td>4</td>\n",
              "      <td>3364799.814</td>\n",
              "    </tr>\n",
              "    <tr>\n",
              "      <th>3</th>\n",
              "      <td>2224</td>\n",
              "      <td>Anambra</td>\n",
              "      <td>Detached duplex</td>\n",
              "      <td>5</td>\n",
              "      <td>2</td>\n",
              "      <td>4</td>\n",
              "      <td>2410306.756</td>\n",
              "    </tr>\n",
              "    <tr>\n",
              "      <th>4</th>\n",
              "      <td>10300</td>\n",
              "      <td>Kogi</td>\n",
              "      <td>Terrace duplex</td>\n",
              "      <td>8</td>\n",
              "      <td>5</td>\n",
              "      <td>6</td>\n",
              "      <td>2600700.898</td>\n",
              "    </tr>\n",
              "  </tbody>\n",
              "</table>\n",
              "</div>"
            ],
            "text/plain": [
              "      ID location            house_type  no_of_bedrooms  no_of_bathrooms  \\\n",
              "0   3583  Katsina  Semi-detached duplex               2                2   \n",
              "1   2748     Ondo             Apartment               5                2   \n",
              "2   9261    Ekiti               Mansion               7                5   \n",
              "3   2224  Anambra       Detached duplex               5                2   \n",
              "4  10300     Kogi        Terrace duplex               8                5   \n",
              "\n",
              "   parking_space        price  \n",
              "0              1  1149999.565  \n",
              "1              4  1672416.689  \n",
              "2              4  3364799.814  \n",
              "3              4  2410306.756  \n",
              "4              6  2600700.898  "
            ]
          },
          "execution_count": 47,
          "metadata": {},
          "output_type": "execute_result"
        }
      ],
      "source": [
        "#read dataset\n",
        "data = pd.read_csv(r\"Wazobia_cleaned.csv\")\n",
        "data.head()"
      ]
    },
    {
      "cell_type": "markdown",
      "metadata": {},
      "source": [
        "### **Step 3: Addressing Outliers 🥲**\n",
        "\n",
        "Before diving deeper into the modeling process, a critical issue was addressed — **outliers**.\n",
        "\n",
        "The dataset contained a significant number of extreme values that posed a challenge for the model. Since the model is strictly a **Linear Regression** model, \n",
        "<br>outliers can be particularly problematic because:\n",
        "\n",
        "- ⚠️ They **distort model parameters**, making the line of best fit less reliable.\n",
        "- 📉 They **skew predictions**, reducing the model’s ability to generalize.\n",
        "- 🔍 They can **mask true relationships** between variables, leading to incorrect interpretations.\n",
        "\n",
        "To minimize their negative impact, an **outlier removal strategy** technique was applied:\n",
        "\n",
        "- The data was filtered to separate rows with prices below the **5th percentile (0.05 quantile)** and above the **95th percentile (0.95 quantile)**.\n",
        "- This helped retain the majority of the dataset while eliminating only the most extreme values.\n",
        "\n",
        "By removing these few but influential outliers, it ensured the **stability and accuracy** of the regression model without losing valuable patterns in the data.\n"
      ]
    },
    {
      "cell_type": "code",
      "execution_count": 48,
      "metadata": {},
      "outputs": [
        {
          "name": "stdout",
          "output_type": "stream",
          "text": [
            "<class 'pandas.core.frame.DataFrame'>\n",
            "Index: 12588 entries, 0 to 13999\n",
            "Data columns (total 7 columns):\n",
            " #   Column           Non-Null Count  Dtype  \n",
            "---  ------           --------------  -----  \n",
            " 0   ID               12588 non-null  int64  \n",
            " 1   location         12588 non-null  object \n",
            " 2   house_type       12588 non-null  object \n",
            " 3   no_of_bedrooms   12588 non-null  int64  \n",
            " 4   no_of_bathrooms  12588 non-null  int64  \n",
            " 5   parking_space    12588 non-null  int64  \n",
            " 6   price            12588 non-null  float64\n",
            "dtypes: float64(1), int64(4), object(2)\n",
            "memory usage: 786.8+ KB\n"
          ]
        }
      ],
      "source": [
        "binned_df = {}\n",
        "\n",
        "data = data.reset_index()\n",
        "\n",
        "house_types = list(data.house_type.unique())\n",
        "\n",
        "for house_type in house_types:\n",
        "  binned_df[house_type] = data[data[\"house_type\"] == house_type]\n",
        "\n",
        "\n",
        "cleaned_binned_df = {}\n",
        "for k, v in binned_df.items():\n",
        "  upper = v[\"price\"].quantile(0.95)\n",
        "  lower = v[\"price\"].quantile(0.05)\n",
        "\n",
        "  v = v[v[\"price\"] > lower]\n",
        "  v = v[v[\"price\"] < upper]\n",
        "\n",
        "\n",
        "\n",
        "\n",
        "  cleaned_binned_df[k] = v\n",
        "\n",
        "  \n",
        "data = pd.concat(cleaned_binned_df.values(), ignore_index=True).sort_values(by='index')\n",
        "data.set_index('index', inplace=True)\n",
        "\n",
        "data.info()"
      ]
    },
    {
      "cell_type": "markdown",
      "metadata": {},
      "source": [
        "### **Step 4: Features Assigning**\n",
        "\n",
        "#### **✅ What we did was:**\n",
        "- Dropped `ID`, which has no predictive value\n",
        "\n",
        "- Splits the data into `X` (features) and `y` (target = price)\n"
      ]
    },
    {
      "cell_type": "code",
      "execution_count": 49,
      "metadata": {},
      "outputs": [
        {
          "name": "stdout",
          "output_type": "stream",
          "text": [
            "(12588, 5) (12588, 1)\n"
          ]
        }
      ],
      "source": [
        "# Drop the ID column\n",
        "df = data.drop(columns=[\"ID\"])\n",
        "\n",
        "# Separate features (X) and target (y)\n",
        "X = df.drop(columns=[\"price\"])\n",
        "y = df[[\"price\"]]\n",
        "\n",
        "print(X.shape, y.shape)"
      ]
    },
    {
      "cell_type": "markdown",
      "metadata": {},
      "source": [
        "### **Step 5: 📊 Train-Test Split**\n",
        "\n",
        "The dataset was divided into **training (70%)** and **testing (30%)** sets using a fixed random seed (`random_state=40`) to ensure **reproducibility** of results. <br>This approach is fundamental in machine learning for several reasons:\n",
        "\n",
        "- **Model Evaluation**: By testing on unseen data, we obtain a more realistic estimate of how the model will perform in real-world scenarios.\n",
        "- **Avoiding Overfitting**: It helps prevent the model from simply memorizing the training data by providing a separate validation step.\n",
        "\n",
        "This structured splitting strategy lays a strong foundation for building a robust and generalizable machine learning model.\n"
      ]
    },
    {
      "cell_type": "code",
      "execution_count": 50,
      "metadata": {
        "id": "XnbovuW9onQR",
        "outputId": "5442fdde-0c14-409c-cbb2-1be56d6dd0a9"
      },
      "outputs": [
        {
          "name": "stdout",
          "output_type": "stream",
          "text": [
            "(8811, 5) (3777, 5)\n"
          ]
        }
      ],
      "source": [
        "X_train, X_test, y_train, y_test = train_test_split(X, y, test_size=0.3, random_state=40)\n",
        "print(X_train.shape, X_test.shape)"
      ]
    },
    {
      "cell_type": "markdown",
      "metadata": {},
      "source": [
        "### **Step 6: 💡 Features Engineering**"
      ]
    },
    {
      "cell_type": "markdown",
      "metadata": {},
      "source": [
        "### 🧠 Feature Encoding & Engineering: The Brainstorming Phase\n",
        "\n",
        "This is where the real brainstorming began!\n",
        "\n",
        "Initially, various **feature encoding techniques** were explored to find the one suitable for the dataset. Given the **quasi-ordinal nature** of some variables (based on real-world interpretations), **Ordinal Encoding** or **Target Encoding** seemed like viable options.\n",
        "\n",
        "However, after testing multiple approaches, it was discovered that the model **performed best with One-Hot Encoding**. Despite being more memory-intensive, it allowed the model to learn more effectively from the categorical variables — particularly the **price-based target variable**, which didn’t align well with ordinal assumptions.\n",
        "\n",
        "---\n",
        "\n",
        "### 🔧 Feature Engineering Strategy\n",
        "\n",
        "After settling on One-Hot Encoding, the main focus was then turned to **enhancing model performance** through thoughtful feature engineering. Based on observed relationships between some features and the target variable (price), some few new features were created:\n",
        "\n",
        "1. **Bedrooms × House Type**  \n",
        "   - Combined the number of bedrooms with the type of house.\n",
        "\n",
        "2. **Parking Space × House Type**  \n",
        "   - Merged parking space availability with house type, based on the our discovery that certain house types with more parking space increase in value.\n",
        "\n",
        "3. **Bedrooms + Bathrooms**  \n",
        "   - Created a new feature by concatenating the number of bedrooms and bathrooms.\n",
        "\n",
        "4. **One-Hot Encoding on Engineered Features + Location**  \n",
        "   - Applied One-Hot Encoding to all the newly created features, as well as the `Location` column, to ensure the model could interpret them effectively.\n",
        "\n",
        "---\n",
        "\n",
        "These engineered features were informed by the exploratory data analysis that was done earlier in the data cleaning phase, where it was observed that some meaningful correlations existed between these combinations and the target variable (**price**). By feeding these new features into the model, it was able to **boost predictive performance** and help the model better capture the underlying patterns in the data.\n"
      ]
    },
    {
      "cell_type": "code",
      "execution_count": 51,
      "metadata": {
        "id": "cQH6JDJhonQR",
        "outputId": "f0a6dbc1-fd61-4b09-9ef5-c3681dea26a0"
      },
      "outputs": [
        {
          "data": {
            "text/html": [
              "<div>\n",
              "<style scoped>\n",
              "    .dataframe tbody tr th:only-of-type {\n",
              "        vertical-align: middle;\n",
              "    }\n",
              "\n",
              "    .dataframe tbody tr th {\n",
              "        vertical-align: top;\n",
              "    }\n",
              "\n",
              "    .dataframe thead th {\n",
              "        text-align: right;\n",
              "    }\n",
              "</style>\n",
              "<table border=\"1\" class=\"dataframe\">\n",
              "  <thead>\n",
              "    <tr style=\"text-align: right;\">\n",
              "      <th></th>\n",
              "      <th>location_Adamawa</th>\n",
              "      <th>location_Akwa Ibom</th>\n",
              "      <th>location_Anambra</th>\n",
              "      <th>location_Bauchi</th>\n",
              "      <th>location_Bayelsa</th>\n",
              "      <th>location_Benue</th>\n",
              "      <th>location_Borno</th>\n",
              "      <th>location_Cross River</th>\n",
              "      <th>location_Delta</th>\n",
              "      <th>location_Ebonyi</th>\n",
              "      <th>...</th>\n",
              "      <th>bed_bath_room_8_bed_5_bath_rooms</th>\n",
              "      <th>bed_bath_room_8_bed_6_bath_rooms</th>\n",
              "      <th>bed_bath_room_8_bed_7_bath_rooms</th>\n",
              "      <th>bed_bath_room_9_bed_1_bath_rooms</th>\n",
              "      <th>bed_bath_room_9_bed_2_bath_rooms</th>\n",
              "      <th>bed_bath_room_9_bed_3_bath_rooms</th>\n",
              "      <th>bed_bath_room_9_bed_4_bath_rooms</th>\n",
              "      <th>bed_bath_room_9_bed_5_bath_rooms</th>\n",
              "      <th>bed_bath_room_9_bed_6_bath_rooms</th>\n",
              "      <th>bed_bath_room_9_bed_7_bath_rooms</th>\n",
              "    </tr>\n",
              "    <tr>\n",
              "      <th>index</th>\n",
              "      <th></th>\n",
              "      <th></th>\n",
              "      <th></th>\n",
              "      <th></th>\n",
              "      <th></th>\n",
              "      <th></th>\n",
              "      <th></th>\n",
              "      <th></th>\n",
              "      <th></th>\n",
              "      <th></th>\n",
              "      <th></th>\n",
              "      <th></th>\n",
              "      <th></th>\n",
              "      <th></th>\n",
              "      <th></th>\n",
              "      <th></th>\n",
              "      <th></th>\n",
              "      <th></th>\n",
              "      <th></th>\n",
              "      <th></th>\n",
              "      <th></th>\n",
              "    </tr>\n",
              "  </thead>\n",
              "  <tbody>\n",
              "    <tr>\n",
              "      <th>9072</th>\n",
              "      <td>0.0</td>\n",
              "      <td>0.0</td>\n",
              "      <td>0.0</td>\n",
              "      <td>0.0</td>\n",
              "      <td>0.0</td>\n",
              "      <td>0.0</td>\n",
              "      <td>0.0</td>\n",
              "      <td>0.0</td>\n",
              "      <td>0.0</td>\n",
              "      <td>0.0</td>\n",
              "      <td>...</td>\n",
              "      <td>0.0</td>\n",
              "      <td>0.0</td>\n",
              "      <td>0.0</td>\n",
              "      <td>0.0</td>\n",
              "      <td>0.0</td>\n",
              "      <td>0.0</td>\n",
              "      <td>0.0</td>\n",
              "      <td>0.0</td>\n",
              "      <td>0.0</td>\n",
              "      <td>0.0</td>\n",
              "    </tr>\n",
              "    <tr>\n",
              "      <th>8210</th>\n",
              "      <td>0.0</td>\n",
              "      <td>0.0</td>\n",
              "      <td>0.0</td>\n",
              "      <td>0.0</td>\n",
              "      <td>0.0</td>\n",
              "      <td>0.0</td>\n",
              "      <td>0.0</td>\n",
              "      <td>0.0</td>\n",
              "      <td>0.0</td>\n",
              "      <td>0.0</td>\n",
              "      <td>...</td>\n",
              "      <td>0.0</td>\n",
              "      <td>0.0</td>\n",
              "      <td>0.0</td>\n",
              "      <td>0.0</td>\n",
              "      <td>0.0</td>\n",
              "      <td>0.0</td>\n",
              "      <td>0.0</td>\n",
              "      <td>0.0</td>\n",
              "      <td>0.0</td>\n",
              "      <td>0.0</td>\n",
              "    </tr>\n",
              "    <tr>\n",
              "      <th>13705</th>\n",
              "      <td>0.0</td>\n",
              "      <td>0.0</td>\n",
              "      <td>0.0</td>\n",
              "      <td>0.0</td>\n",
              "      <td>0.0</td>\n",
              "      <td>0.0</td>\n",
              "      <td>0.0</td>\n",
              "      <td>0.0</td>\n",
              "      <td>0.0</td>\n",
              "      <td>0.0</td>\n",
              "      <td>...</td>\n",
              "      <td>0.0</td>\n",
              "      <td>0.0</td>\n",
              "      <td>0.0</td>\n",
              "      <td>0.0</td>\n",
              "      <td>0.0</td>\n",
              "      <td>0.0</td>\n",
              "      <td>0.0</td>\n",
              "      <td>0.0</td>\n",
              "      <td>0.0</td>\n",
              "      <td>0.0</td>\n",
              "    </tr>\n",
              "    <tr>\n",
              "      <th>5470</th>\n",
              "      <td>0.0</td>\n",
              "      <td>0.0</td>\n",
              "      <td>0.0</td>\n",
              "      <td>0.0</td>\n",
              "      <td>0.0</td>\n",
              "      <td>0.0</td>\n",
              "      <td>0.0</td>\n",
              "      <td>0.0</td>\n",
              "      <td>0.0</td>\n",
              "      <td>0.0</td>\n",
              "      <td>...</td>\n",
              "      <td>0.0</td>\n",
              "      <td>0.0</td>\n",
              "      <td>0.0</td>\n",
              "      <td>0.0</td>\n",
              "      <td>0.0</td>\n",
              "      <td>0.0</td>\n",
              "      <td>0.0</td>\n",
              "      <td>0.0</td>\n",
              "      <td>0.0</td>\n",
              "      <td>0.0</td>\n",
              "    </tr>\n",
              "    <tr>\n",
              "      <th>84</th>\n",
              "      <td>0.0</td>\n",
              "      <td>0.0</td>\n",
              "      <td>0.0</td>\n",
              "      <td>0.0</td>\n",
              "      <td>0.0</td>\n",
              "      <td>0.0</td>\n",
              "      <td>0.0</td>\n",
              "      <td>0.0</td>\n",
              "      <td>0.0</td>\n",
              "      <td>0.0</td>\n",
              "      <td>...</td>\n",
              "      <td>0.0</td>\n",
              "      <td>0.0</td>\n",
              "      <td>0.0</td>\n",
              "      <td>0.0</td>\n",
              "      <td>0.0</td>\n",
              "      <td>0.0</td>\n",
              "      <td>0.0</td>\n",
              "      <td>0.0</td>\n",
              "      <td>0.0</td>\n",
              "      <td>0.0</td>\n",
              "    </tr>\n",
              "    <tr>\n",
              "      <th>...</th>\n",
              "      <td>...</td>\n",
              "      <td>...</td>\n",
              "      <td>...</td>\n",
              "      <td>...</td>\n",
              "      <td>...</td>\n",
              "      <td>...</td>\n",
              "      <td>...</td>\n",
              "      <td>...</td>\n",
              "      <td>...</td>\n",
              "      <td>...</td>\n",
              "      <td>...</td>\n",
              "      <td>...</td>\n",
              "      <td>...</td>\n",
              "      <td>...</td>\n",
              "      <td>...</td>\n",
              "      <td>...</td>\n",
              "      <td>...</td>\n",
              "      <td>...</td>\n",
              "      <td>...</td>\n",
              "      <td>...</td>\n",
              "      <td>...</td>\n",
              "    </tr>\n",
              "    <tr>\n",
              "      <th>12810</th>\n",
              "      <td>0.0</td>\n",
              "      <td>0.0</td>\n",
              "      <td>0.0</td>\n",
              "      <td>0.0</td>\n",
              "      <td>0.0</td>\n",
              "      <td>0.0</td>\n",
              "      <td>0.0</td>\n",
              "      <td>0.0</td>\n",
              "      <td>0.0</td>\n",
              "      <td>0.0</td>\n",
              "      <td>...</td>\n",
              "      <td>0.0</td>\n",
              "      <td>0.0</td>\n",
              "      <td>0.0</td>\n",
              "      <td>0.0</td>\n",
              "      <td>0.0</td>\n",
              "      <td>0.0</td>\n",
              "      <td>0.0</td>\n",
              "      <td>0.0</td>\n",
              "      <td>0.0</td>\n",
              "      <td>0.0</td>\n",
              "    </tr>\n",
              "    <tr>\n",
              "      <th>6026</th>\n",
              "      <td>0.0</td>\n",
              "      <td>0.0</td>\n",
              "      <td>0.0</td>\n",
              "      <td>0.0</td>\n",
              "      <td>0.0</td>\n",
              "      <td>0.0</td>\n",
              "      <td>0.0</td>\n",
              "      <td>0.0</td>\n",
              "      <td>0.0</td>\n",
              "      <td>0.0</td>\n",
              "      <td>...</td>\n",
              "      <td>0.0</td>\n",
              "      <td>0.0</td>\n",
              "      <td>0.0</td>\n",
              "      <td>0.0</td>\n",
              "      <td>0.0</td>\n",
              "      <td>0.0</td>\n",
              "      <td>0.0</td>\n",
              "      <td>0.0</td>\n",
              "      <td>0.0</td>\n",
              "      <td>0.0</td>\n",
              "    </tr>\n",
              "    <tr>\n",
              "      <th>8456</th>\n",
              "      <td>0.0</td>\n",
              "      <td>0.0</td>\n",
              "      <td>0.0</td>\n",
              "      <td>0.0</td>\n",
              "      <td>0.0</td>\n",
              "      <td>0.0</td>\n",
              "      <td>0.0</td>\n",
              "      <td>0.0</td>\n",
              "      <td>0.0</td>\n",
              "      <td>0.0</td>\n",
              "      <td>...</td>\n",
              "      <td>0.0</td>\n",
              "      <td>1.0</td>\n",
              "      <td>0.0</td>\n",
              "      <td>0.0</td>\n",
              "      <td>0.0</td>\n",
              "      <td>0.0</td>\n",
              "      <td>0.0</td>\n",
              "      <td>0.0</td>\n",
              "      <td>0.0</td>\n",
              "      <td>0.0</td>\n",
              "    </tr>\n",
              "    <tr>\n",
              "      <th>12511</th>\n",
              "      <td>0.0</td>\n",
              "      <td>0.0</td>\n",
              "      <td>0.0</td>\n",
              "      <td>0.0</td>\n",
              "      <td>0.0</td>\n",
              "      <td>0.0</td>\n",
              "      <td>0.0</td>\n",
              "      <td>0.0</td>\n",
              "      <td>0.0</td>\n",
              "      <td>0.0</td>\n",
              "      <td>...</td>\n",
              "      <td>0.0</td>\n",
              "      <td>0.0</td>\n",
              "      <td>0.0</td>\n",
              "      <td>0.0</td>\n",
              "      <td>0.0</td>\n",
              "      <td>0.0</td>\n",
              "      <td>0.0</td>\n",
              "      <td>0.0</td>\n",
              "      <td>0.0</td>\n",
              "      <td>0.0</td>\n",
              "    </tr>\n",
              "    <tr>\n",
              "      <th>12875</th>\n",
              "      <td>0.0</td>\n",
              "      <td>0.0</td>\n",
              "      <td>0.0</td>\n",
              "      <td>1.0</td>\n",
              "      <td>0.0</td>\n",
              "      <td>0.0</td>\n",
              "      <td>0.0</td>\n",
              "      <td>0.0</td>\n",
              "      <td>0.0</td>\n",
              "      <td>0.0</td>\n",
              "      <td>...</td>\n",
              "      <td>0.0</td>\n",
              "      <td>0.0</td>\n",
              "      <td>0.0</td>\n",
              "      <td>0.0</td>\n",
              "      <td>0.0</td>\n",
              "      <td>0.0</td>\n",
              "      <td>0.0</td>\n",
              "      <td>0.0</td>\n",
              "      <td>0.0</td>\n",
              "      <td>0.0</td>\n",
              "    </tr>\n",
              "  </tbody>\n",
              "</table>\n",
              "<p>8811 rows × 242 columns</p>\n",
              "</div>"
            ],
            "text/plain": [
              "       location_Adamawa  location_Akwa Ibom  location_Anambra  \\\n",
              "index                                                           \n",
              "9072                0.0                 0.0               0.0   \n",
              "8210                0.0                 0.0               0.0   \n",
              "13705               0.0                 0.0               0.0   \n",
              "5470                0.0                 0.0               0.0   \n",
              "84                  0.0                 0.0               0.0   \n",
              "...                 ...                 ...               ...   \n",
              "12810               0.0                 0.0               0.0   \n",
              "6026                0.0                 0.0               0.0   \n",
              "8456                0.0                 0.0               0.0   \n",
              "12511               0.0                 0.0               0.0   \n",
              "12875               0.0                 0.0               0.0   \n",
              "\n",
              "       location_Bauchi  location_Bayelsa  location_Benue  location_Borno  \\\n",
              "index                                                                      \n",
              "9072               0.0               0.0             0.0             0.0   \n",
              "8210               0.0               0.0             0.0             0.0   \n",
              "13705              0.0               0.0             0.0             0.0   \n",
              "5470               0.0               0.0             0.0             0.0   \n",
              "84                 0.0               0.0             0.0             0.0   \n",
              "...                ...               ...             ...             ...   \n",
              "12810              0.0               0.0             0.0             0.0   \n",
              "6026               0.0               0.0             0.0             0.0   \n",
              "8456               0.0               0.0             0.0             0.0   \n",
              "12511              0.0               0.0             0.0             0.0   \n",
              "12875              1.0               0.0             0.0             0.0   \n",
              "\n",
              "       location_Cross River  location_Delta  location_Ebonyi  ...  \\\n",
              "index                                                         ...   \n",
              "9072                    0.0             0.0              0.0  ...   \n",
              "8210                    0.0             0.0              0.0  ...   \n",
              "13705                   0.0             0.0              0.0  ...   \n",
              "5470                    0.0             0.0              0.0  ...   \n",
              "84                      0.0             0.0              0.0  ...   \n",
              "...                     ...             ...              ...  ...   \n",
              "12810                   0.0             0.0              0.0  ...   \n",
              "6026                    0.0             0.0              0.0  ...   \n",
              "8456                    0.0             0.0              0.0  ...   \n",
              "12511                   0.0             0.0              0.0  ...   \n",
              "12875                   0.0             0.0              0.0  ...   \n",
              "\n",
              "       bed_bath_room_8_bed_5_bath_rooms  bed_bath_room_8_bed_6_bath_rooms  \\\n",
              "index                                                                       \n",
              "9072                                0.0                               0.0   \n",
              "8210                                0.0                               0.0   \n",
              "13705                               0.0                               0.0   \n",
              "5470                                0.0                               0.0   \n",
              "84                                  0.0                               0.0   \n",
              "...                                 ...                               ...   \n",
              "12810                               0.0                               0.0   \n",
              "6026                                0.0                               0.0   \n",
              "8456                                0.0                               1.0   \n",
              "12511                               0.0                               0.0   \n",
              "12875                               0.0                               0.0   \n",
              "\n",
              "       bed_bath_room_8_bed_7_bath_rooms  bed_bath_room_9_bed_1_bath_rooms  \\\n",
              "index                                                                       \n",
              "9072                                0.0                               0.0   \n",
              "8210                                0.0                               0.0   \n",
              "13705                               0.0                               0.0   \n",
              "5470                                0.0                               0.0   \n",
              "84                                  0.0                               0.0   \n",
              "...                                 ...                               ...   \n",
              "12810                               0.0                               0.0   \n",
              "6026                                0.0                               0.0   \n",
              "8456                                0.0                               0.0   \n",
              "12511                               0.0                               0.0   \n",
              "12875                               0.0                               0.0   \n",
              "\n",
              "       bed_bath_room_9_bed_2_bath_rooms  bed_bath_room_9_bed_3_bath_rooms  \\\n",
              "index                                                                       \n",
              "9072                                0.0                               0.0   \n",
              "8210                                0.0                               0.0   \n",
              "13705                               0.0                               0.0   \n",
              "5470                                0.0                               0.0   \n",
              "84                                  0.0                               0.0   \n",
              "...                                 ...                               ...   \n",
              "12810                               0.0                               0.0   \n",
              "6026                                0.0                               0.0   \n",
              "8456                                0.0                               0.0   \n",
              "12511                               0.0                               0.0   \n",
              "12875                               0.0                               0.0   \n",
              "\n",
              "       bed_bath_room_9_bed_4_bath_rooms  bed_bath_room_9_bed_5_bath_rooms  \\\n",
              "index                                                                       \n",
              "9072                                0.0                               0.0   \n",
              "8210                                0.0                               0.0   \n",
              "13705                               0.0                               0.0   \n",
              "5470                                0.0                               0.0   \n",
              "84                                  0.0                               0.0   \n",
              "...                                 ...                               ...   \n",
              "12810                               0.0                               0.0   \n",
              "6026                                0.0                               0.0   \n",
              "8456                                0.0                               0.0   \n",
              "12511                               0.0                               0.0   \n",
              "12875                               0.0                               0.0   \n",
              "\n",
              "       bed_bath_room_9_bed_6_bath_rooms  bed_bath_room_9_bed_7_bath_rooms  \n",
              "index                                                                      \n",
              "9072                                0.0                               0.0  \n",
              "8210                                0.0                               0.0  \n",
              "13705                               0.0                               0.0  \n",
              "5470                                0.0                               0.0  \n",
              "84                                  0.0                               0.0  \n",
              "...                                 ...                               ...  \n",
              "12810                               0.0                               0.0  \n",
              "6026                                0.0                               0.0  \n",
              "8456                                0.0                               0.0  \n",
              "12511                               0.0                               0.0  \n",
              "12875                               0.0                               0.0  \n",
              "\n",
              "[8811 rows x 242 columns]"
            ]
          },
          "execution_count": 51,
          "metadata": {},
          "output_type": "execute_result"
        }
      ],
      "source": [
        "X_train[\"bed_house_type\"] = X_train[\"no_of_bedrooms\"].astype(str) + \"_\" +  X_train[\"house_type\"]\n",
        "X_train[\"ps_house_type\"] = X_train[\"parking_space\"].astype(str) + \"_\" +  X_train[\"house_type\"]\n",
        "X_train[\"bed_bath_room\"] = X_train[\"no_of_bedrooms\"].astype(str) + \"_bed_\" +  X_train[\"no_of_bathrooms\"].astype(str) +\"_bath_rooms\"\n",
        "\n",
        "\n",
        "# One-Hot Encode categorical variables: house_type and location\n",
        "encoder = OneHotEncoder(drop='first', sparse_output=False, handle_unknown='ignore')\n",
        "\n",
        "# Fit on training categorical columns\n",
        "X_train_cat = encoder.fit_transform(X_train[['location', \"bed_house_type\", \"ps_house_type\", \"bed_bath_room\"]])\n",
        "\n",
        "\n",
        "# Get column names for encoded features\n",
        "encoded_columns = encoder.get_feature_names_out(['location', \"bed_house_type\", \"ps_house_type\", \"bed_bath_room\"])\n",
        "\n",
        "# Convert to DataFrame\n",
        "X_train_final = pd.DataFrame(X_train_cat, columns=encoded_columns, index=X_train.index)\n",
        "X_train_final"
      ]
    },
    {
      "cell_type": "markdown",
      "metadata": {},
      "source": [
        "### **Step 7: 🧪 Model Training**\n",
        "\n",
        "To fine-tune our model, we used **Grid Search** with **5-fold Cross-Validation**. This allowed us to test different hyperparameter combinations and <br>choose the best setup based on performance.\n",
        "\n",
        "#### 🔧 Parameters Tuned\n",
        "- `fit_intercept`: Whether to calculate the intercept.\n",
        "- `positive`: Whether to restrict coefficients to non-negative values.\n",
        "\n",
        "#### 📊 Evaluation Metric\n",
        "Each configuration were evaluated using **Mean Squared Error (MSE)** and the selected model is the one with the lowest **Root Mean Squared Error (RMSE)**.\n",
        "\n",
        "The resulting model (`best_model`) was both efficient and generalizable.\n"
      ]
    },
    {
      "cell_type": "code",
      "execution_count": 52,
      "metadata": {
        "id": "Z6Aly13KonQS",
        "outputId": "0c4a87a4-4ffc-4bb7-c897-470299222008"
      },
      "outputs": [
        {
          "data": {
            "text/plain": [
              "np.float64(338922.3356737608)"
            ]
          },
          "execution_count": 52,
          "metadata": {},
          "output_type": "execute_result"
        }
      ],
      "source": [
        "model = LinearRegression()\n",
        "param_grid = {'fit_intercept': [True, False],\n",
        "              'copy_X': [True, False],\n",
        "              \"positive\": [True, False],\n",
        "              'n_jobs': [1, -1]}\n",
        "\n",
        "grid_search = GridSearchCV(model, param_grid, cv=5, scoring=\"neg_mean_squared_error\")\n",
        "grid_search.fit(X_train_final, y_train)\n",
        "(-grid_search.best_score_)**0.5"
      ]
    },
    {
      "cell_type": "markdown",
      "metadata": {
        "id": "F3CLOO0vvFXQ"
      },
      "source": [
        "### **Step 8: 📈 Model Evaluation**\n",
        "\n",
        "The same feature transformations from the training phase were applied to the test set, using the trained encoder for One-Hot Encoding.\n",
        "\n",
        "Predictions were made on `X_test_final`, and model performance was evaluated using **Root Mean Squared Error (RMSE)** to measure prediction accuracy on unseen data.\n"
      ]
    },
    {
      "cell_type": "code",
      "execution_count": 53,
      "metadata": {
        "id": "Ze-qxV51onQS",
        "outputId": "a69a0e65-352f-416d-9a47-3676a9b08bd0"
      },
      "outputs": [
        {
          "data": {
            "text/html": [
              "<div>\n",
              "<style scoped>\n",
              "    .dataframe tbody tr th:only-of-type {\n",
              "        vertical-align: middle;\n",
              "    }\n",
              "\n",
              "    .dataframe tbody tr th {\n",
              "        vertical-align: top;\n",
              "    }\n",
              "\n",
              "    .dataframe thead th {\n",
              "        text-align: right;\n",
              "    }\n",
              "</style>\n",
              "<table border=\"1\" class=\"dataframe\">\n",
              "  <thead>\n",
              "    <tr style=\"text-align: right;\">\n",
              "      <th></th>\n",
              "      <th>location_Adamawa</th>\n",
              "      <th>location_Akwa Ibom</th>\n",
              "      <th>location_Anambra</th>\n",
              "      <th>location_Bauchi</th>\n",
              "      <th>location_Bayelsa</th>\n",
              "      <th>location_Benue</th>\n",
              "      <th>location_Borno</th>\n",
              "      <th>location_Cross River</th>\n",
              "      <th>location_Delta</th>\n",
              "      <th>location_Ebonyi</th>\n",
              "      <th>...</th>\n",
              "      <th>bed_bath_room_8_bed_5_bath_rooms</th>\n",
              "      <th>bed_bath_room_8_bed_6_bath_rooms</th>\n",
              "      <th>bed_bath_room_8_bed_7_bath_rooms</th>\n",
              "      <th>bed_bath_room_9_bed_1_bath_rooms</th>\n",
              "      <th>bed_bath_room_9_bed_2_bath_rooms</th>\n",
              "      <th>bed_bath_room_9_bed_3_bath_rooms</th>\n",
              "      <th>bed_bath_room_9_bed_4_bath_rooms</th>\n",
              "      <th>bed_bath_room_9_bed_5_bath_rooms</th>\n",
              "      <th>bed_bath_room_9_bed_6_bath_rooms</th>\n",
              "      <th>bed_bath_room_9_bed_7_bath_rooms</th>\n",
              "    </tr>\n",
              "    <tr>\n",
              "      <th>index</th>\n",
              "      <th></th>\n",
              "      <th></th>\n",
              "      <th></th>\n",
              "      <th></th>\n",
              "      <th></th>\n",
              "      <th></th>\n",
              "      <th></th>\n",
              "      <th></th>\n",
              "      <th></th>\n",
              "      <th></th>\n",
              "      <th></th>\n",
              "      <th></th>\n",
              "      <th></th>\n",
              "      <th></th>\n",
              "      <th></th>\n",
              "      <th></th>\n",
              "      <th></th>\n",
              "      <th></th>\n",
              "      <th></th>\n",
              "      <th></th>\n",
              "      <th></th>\n",
              "    </tr>\n",
              "  </thead>\n",
              "  <tbody>\n",
              "    <tr>\n",
              "      <th>12661</th>\n",
              "      <td>0.0</td>\n",
              "      <td>0.0</td>\n",
              "      <td>0.0</td>\n",
              "      <td>0.0</td>\n",
              "      <td>0.0</td>\n",
              "      <td>0.0</td>\n",
              "      <td>0.0</td>\n",
              "      <td>0.0</td>\n",
              "      <td>0.0</td>\n",
              "      <td>0.0</td>\n",
              "      <td>...</td>\n",
              "      <td>0.0</td>\n",
              "      <td>0.0</td>\n",
              "      <td>0.0</td>\n",
              "      <td>0.0</td>\n",
              "      <td>1.0</td>\n",
              "      <td>0.0</td>\n",
              "      <td>0.0</td>\n",
              "      <td>0.0</td>\n",
              "      <td>0.0</td>\n",
              "      <td>0.0</td>\n",
              "    </tr>\n",
              "    <tr>\n",
              "      <th>13664</th>\n",
              "      <td>0.0</td>\n",
              "      <td>0.0</td>\n",
              "      <td>0.0</td>\n",
              "      <td>0.0</td>\n",
              "      <td>0.0</td>\n",
              "      <td>0.0</td>\n",
              "      <td>0.0</td>\n",
              "      <td>0.0</td>\n",
              "      <td>0.0</td>\n",
              "      <td>0.0</td>\n",
              "      <td>...</td>\n",
              "      <td>0.0</td>\n",
              "      <td>0.0</td>\n",
              "      <td>0.0</td>\n",
              "      <td>0.0</td>\n",
              "      <td>0.0</td>\n",
              "      <td>0.0</td>\n",
              "      <td>0.0</td>\n",
              "      <td>0.0</td>\n",
              "      <td>0.0</td>\n",
              "      <td>0.0</td>\n",
              "    </tr>\n",
              "    <tr>\n",
              "      <th>2280</th>\n",
              "      <td>0.0</td>\n",
              "      <td>0.0</td>\n",
              "      <td>0.0</td>\n",
              "      <td>0.0</td>\n",
              "      <td>0.0</td>\n",
              "      <td>0.0</td>\n",
              "      <td>0.0</td>\n",
              "      <td>0.0</td>\n",
              "      <td>0.0</td>\n",
              "      <td>0.0</td>\n",
              "      <td>...</td>\n",
              "      <td>0.0</td>\n",
              "      <td>0.0</td>\n",
              "      <td>0.0</td>\n",
              "      <td>0.0</td>\n",
              "      <td>0.0</td>\n",
              "      <td>0.0</td>\n",
              "      <td>0.0</td>\n",
              "      <td>0.0</td>\n",
              "      <td>0.0</td>\n",
              "      <td>0.0</td>\n",
              "    </tr>\n",
              "    <tr>\n",
              "      <th>12217</th>\n",
              "      <td>0.0</td>\n",
              "      <td>0.0</td>\n",
              "      <td>0.0</td>\n",
              "      <td>0.0</td>\n",
              "      <td>0.0</td>\n",
              "      <td>0.0</td>\n",
              "      <td>0.0</td>\n",
              "      <td>0.0</td>\n",
              "      <td>0.0</td>\n",
              "      <td>0.0</td>\n",
              "      <td>...</td>\n",
              "      <td>0.0</td>\n",
              "      <td>0.0</td>\n",
              "      <td>0.0</td>\n",
              "      <td>0.0</td>\n",
              "      <td>0.0</td>\n",
              "      <td>0.0</td>\n",
              "      <td>0.0</td>\n",
              "      <td>0.0</td>\n",
              "      <td>0.0</td>\n",
              "      <td>0.0</td>\n",
              "    </tr>\n",
              "    <tr>\n",
              "      <th>9772</th>\n",
              "      <td>0.0</td>\n",
              "      <td>0.0</td>\n",
              "      <td>0.0</td>\n",
              "      <td>0.0</td>\n",
              "      <td>0.0</td>\n",
              "      <td>0.0</td>\n",
              "      <td>0.0</td>\n",
              "      <td>0.0</td>\n",
              "      <td>0.0</td>\n",
              "      <td>0.0</td>\n",
              "      <td>...</td>\n",
              "      <td>0.0</td>\n",
              "      <td>0.0</td>\n",
              "      <td>0.0</td>\n",
              "      <td>0.0</td>\n",
              "      <td>0.0</td>\n",
              "      <td>0.0</td>\n",
              "      <td>0.0</td>\n",
              "      <td>0.0</td>\n",
              "      <td>0.0</td>\n",
              "      <td>0.0</td>\n",
              "    </tr>\n",
              "    <tr>\n",
              "      <th>...</th>\n",
              "      <td>...</td>\n",
              "      <td>...</td>\n",
              "      <td>...</td>\n",
              "      <td>...</td>\n",
              "      <td>...</td>\n",
              "      <td>...</td>\n",
              "      <td>...</td>\n",
              "      <td>...</td>\n",
              "      <td>...</td>\n",
              "      <td>...</td>\n",
              "      <td>...</td>\n",
              "      <td>...</td>\n",
              "      <td>...</td>\n",
              "      <td>...</td>\n",
              "      <td>...</td>\n",
              "      <td>...</td>\n",
              "      <td>...</td>\n",
              "      <td>...</td>\n",
              "      <td>...</td>\n",
              "      <td>...</td>\n",
              "      <td>...</td>\n",
              "    </tr>\n",
              "    <tr>\n",
              "      <th>9037</th>\n",
              "      <td>0.0</td>\n",
              "      <td>1.0</td>\n",
              "      <td>0.0</td>\n",
              "      <td>0.0</td>\n",
              "      <td>0.0</td>\n",
              "      <td>0.0</td>\n",
              "      <td>0.0</td>\n",
              "      <td>0.0</td>\n",
              "      <td>0.0</td>\n",
              "      <td>0.0</td>\n",
              "      <td>...</td>\n",
              "      <td>0.0</td>\n",
              "      <td>0.0</td>\n",
              "      <td>0.0</td>\n",
              "      <td>0.0</td>\n",
              "      <td>0.0</td>\n",
              "      <td>0.0</td>\n",
              "      <td>0.0</td>\n",
              "      <td>0.0</td>\n",
              "      <td>0.0</td>\n",
              "      <td>0.0</td>\n",
              "    </tr>\n",
              "    <tr>\n",
              "      <th>9761</th>\n",
              "      <td>0.0</td>\n",
              "      <td>0.0</td>\n",
              "      <td>0.0</td>\n",
              "      <td>0.0</td>\n",
              "      <td>0.0</td>\n",
              "      <td>0.0</td>\n",
              "      <td>0.0</td>\n",
              "      <td>0.0</td>\n",
              "      <td>0.0</td>\n",
              "      <td>0.0</td>\n",
              "      <td>...</td>\n",
              "      <td>0.0</td>\n",
              "      <td>0.0</td>\n",
              "      <td>0.0</td>\n",
              "      <td>0.0</td>\n",
              "      <td>0.0</td>\n",
              "      <td>0.0</td>\n",
              "      <td>0.0</td>\n",
              "      <td>0.0</td>\n",
              "      <td>0.0</td>\n",
              "      <td>0.0</td>\n",
              "    </tr>\n",
              "    <tr>\n",
              "      <th>10976</th>\n",
              "      <td>0.0</td>\n",
              "      <td>0.0</td>\n",
              "      <td>0.0</td>\n",
              "      <td>0.0</td>\n",
              "      <td>0.0</td>\n",
              "      <td>0.0</td>\n",
              "      <td>0.0</td>\n",
              "      <td>0.0</td>\n",
              "      <td>0.0</td>\n",
              "      <td>0.0</td>\n",
              "      <td>...</td>\n",
              "      <td>0.0</td>\n",
              "      <td>0.0</td>\n",
              "      <td>0.0</td>\n",
              "      <td>0.0</td>\n",
              "      <td>0.0</td>\n",
              "      <td>0.0</td>\n",
              "      <td>0.0</td>\n",
              "      <td>0.0</td>\n",
              "      <td>0.0</td>\n",
              "      <td>0.0</td>\n",
              "    </tr>\n",
              "    <tr>\n",
              "      <th>13656</th>\n",
              "      <td>0.0</td>\n",
              "      <td>0.0</td>\n",
              "      <td>0.0</td>\n",
              "      <td>0.0</td>\n",
              "      <td>0.0</td>\n",
              "      <td>0.0</td>\n",
              "      <td>0.0</td>\n",
              "      <td>0.0</td>\n",
              "      <td>0.0</td>\n",
              "      <td>0.0</td>\n",
              "      <td>...</td>\n",
              "      <td>0.0</td>\n",
              "      <td>0.0</td>\n",
              "      <td>0.0</td>\n",
              "      <td>0.0</td>\n",
              "      <td>0.0</td>\n",
              "      <td>0.0</td>\n",
              "      <td>0.0</td>\n",
              "      <td>0.0</td>\n",
              "      <td>0.0</td>\n",
              "      <td>0.0</td>\n",
              "    </tr>\n",
              "    <tr>\n",
              "      <th>11566</th>\n",
              "      <td>0.0</td>\n",
              "      <td>0.0</td>\n",
              "      <td>0.0</td>\n",
              "      <td>0.0</td>\n",
              "      <td>0.0</td>\n",
              "      <td>0.0</td>\n",
              "      <td>0.0</td>\n",
              "      <td>0.0</td>\n",
              "      <td>0.0</td>\n",
              "      <td>0.0</td>\n",
              "      <td>...</td>\n",
              "      <td>0.0</td>\n",
              "      <td>0.0</td>\n",
              "      <td>0.0</td>\n",
              "      <td>0.0</td>\n",
              "      <td>0.0</td>\n",
              "      <td>0.0</td>\n",
              "      <td>0.0</td>\n",
              "      <td>1.0</td>\n",
              "      <td>0.0</td>\n",
              "      <td>0.0</td>\n",
              "    </tr>\n",
              "  </tbody>\n",
              "</table>\n",
              "<p>3777 rows × 242 columns</p>\n",
              "</div>"
            ],
            "text/plain": [
              "       location_Adamawa  location_Akwa Ibom  location_Anambra  \\\n",
              "index                                                           \n",
              "12661               0.0                 0.0               0.0   \n",
              "13664               0.0                 0.0               0.0   \n",
              "2280                0.0                 0.0               0.0   \n",
              "12217               0.0                 0.0               0.0   \n",
              "9772                0.0                 0.0               0.0   \n",
              "...                 ...                 ...               ...   \n",
              "9037                0.0                 1.0               0.0   \n",
              "9761                0.0                 0.0               0.0   \n",
              "10976               0.0                 0.0               0.0   \n",
              "13656               0.0                 0.0               0.0   \n",
              "11566               0.0                 0.0               0.0   \n",
              "\n",
              "       location_Bauchi  location_Bayelsa  location_Benue  location_Borno  \\\n",
              "index                                                                      \n",
              "12661              0.0               0.0             0.0             0.0   \n",
              "13664              0.0               0.0             0.0             0.0   \n",
              "2280               0.0               0.0             0.0             0.0   \n",
              "12217              0.0               0.0             0.0             0.0   \n",
              "9772               0.0               0.0             0.0             0.0   \n",
              "...                ...               ...             ...             ...   \n",
              "9037               0.0               0.0             0.0             0.0   \n",
              "9761               0.0               0.0             0.0             0.0   \n",
              "10976              0.0               0.0             0.0             0.0   \n",
              "13656              0.0               0.0             0.0             0.0   \n",
              "11566              0.0               0.0             0.0             0.0   \n",
              "\n",
              "       location_Cross River  location_Delta  location_Ebonyi  ...  \\\n",
              "index                                                         ...   \n",
              "12661                   0.0             0.0              0.0  ...   \n",
              "13664                   0.0             0.0              0.0  ...   \n",
              "2280                    0.0             0.0              0.0  ...   \n",
              "12217                   0.0             0.0              0.0  ...   \n",
              "9772                    0.0             0.0              0.0  ...   \n",
              "...                     ...             ...              ...  ...   \n",
              "9037                    0.0             0.0              0.0  ...   \n",
              "9761                    0.0             0.0              0.0  ...   \n",
              "10976                   0.0             0.0              0.0  ...   \n",
              "13656                   0.0             0.0              0.0  ...   \n",
              "11566                   0.0             0.0              0.0  ...   \n",
              "\n",
              "       bed_bath_room_8_bed_5_bath_rooms  bed_bath_room_8_bed_6_bath_rooms  \\\n",
              "index                                                                       \n",
              "12661                               0.0                               0.0   \n",
              "13664                               0.0                               0.0   \n",
              "2280                                0.0                               0.0   \n",
              "12217                               0.0                               0.0   \n",
              "9772                                0.0                               0.0   \n",
              "...                                 ...                               ...   \n",
              "9037                                0.0                               0.0   \n",
              "9761                                0.0                               0.0   \n",
              "10976                               0.0                               0.0   \n",
              "13656                               0.0                               0.0   \n",
              "11566                               0.0                               0.0   \n",
              "\n",
              "       bed_bath_room_8_bed_7_bath_rooms  bed_bath_room_9_bed_1_bath_rooms  \\\n",
              "index                                                                       \n",
              "12661                               0.0                               0.0   \n",
              "13664                               0.0                               0.0   \n",
              "2280                                0.0                               0.0   \n",
              "12217                               0.0                               0.0   \n",
              "9772                                0.0                               0.0   \n",
              "...                                 ...                               ...   \n",
              "9037                                0.0                               0.0   \n",
              "9761                                0.0                               0.0   \n",
              "10976                               0.0                               0.0   \n",
              "13656                               0.0                               0.0   \n",
              "11566                               0.0                               0.0   \n",
              "\n",
              "       bed_bath_room_9_bed_2_bath_rooms  bed_bath_room_9_bed_3_bath_rooms  \\\n",
              "index                                                                       \n",
              "12661                               1.0                               0.0   \n",
              "13664                               0.0                               0.0   \n",
              "2280                                0.0                               0.0   \n",
              "12217                               0.0                               0.0   \n",
              "9772                                0.0                               0.0   \n",
              "...                                 ...                               ...   \n",
              "9037                                0.0                               0.0   \n",
              "9761                                0.0                               0.0   \n",
              "10976                               0.0                               0.0   \n",
              "13656                               0.0                               0.0   \n",
              "11566                               0.0                               0.0   \n",
              "\n",
              "       bed_bath_room_9_bed_4_bath_rooms  bed_bath_room_9_bed_5_bath_rooms  \\\n",
              "index                                                                       \n",
              "12661                               0.0                               0.0   \n",
              "13664                               0.0                               0.0   \n",
              "2280                                0.0                               0.0   \n",
              "12217                               0.0                               0.0   \n",
              "9772                                0.0                               0.0   \n",
              "...                                 ...                               ...   \n",
              "9037                                0.0                               0.0   \n",
              "9761                                0.0                               0.0   \n",
              "10976                               0.0                               0.0   \n",
              "13656                               0.0                               0.0   \n",
              "11566                               0.0                               1.0   \n",
              "\n",
              "       bed_bath_room_9_bed_6_bath_rooms  bed_bath_room_9_bed_7_bath_rooms  \n",
              "index                                                                      \n",
              "12661                               0.0                               0.0  \n",
              "13664                               0.0                               0.0  \n",
              "2280                                0.0                               0.0  \n",
              "12217                               0.0                               0.0  \n",
              "9772                                0.0                               0.0  \n",
              "...                                 ...                               ...  \n",
              "9037                                0.0                               0.0  \n",
              "9761                                0.0                               0.0  \n",
              "10976                               0.0                               0.0  \n",
              "13656                               0.0                               0.0  \n",
              "11566                               0.0                               0.0  \n",
              "\n",
              "[3777 rows x 242 columns]"
            ]
          },
          "execution_count": 53,
          "metadata": {},
          "output_type": "execute_result"
        }
      ],
      "source": [
        "X_test[\"bed_house_type\"] = X_test[\"no_of_bedrooms\"].astype(str) + \"_\" +  X_test[\"house_type\"]\n",
        "X_test[\"ps_house_type\"] = X_test[\"parking_space\"].astype(str) + \"_\" +  X_test[\"house_type\"]\n",
        "X_test[\"bed_bath_room\"] = X_test[\"no_of_bedrooms\"].astype(str) + \"_bed_\" +  X_test[\"no_of_bathrooms\"].astype(str) +\"_bath_rooms\"\n",
        "\n",
        "X_test_cat = encoder.transform(X_test[['location', \"bed_house_type\", \"ps_house_type\", \"bed_bath_room\"]])\n",
        "X_test_final = pd.DataFrame(X_test_cat, columns=encoded_columns, index=X_test.index)\n",
        "X_test_final"
      ]
    },
    {
      "cell_type": "code",
      "execution_count": 54,
      "metadata": {
        "id": "FuvbVIs4onQS",
        "outputId": "677fefee-f0fa-4f3b-ac0a-e03f6dce93ee"
      },
      "outputs": [
        {
          "name": "stdout",
          "output_type": "stream",
          "text": [
            "RMSE: 348365.3972237201\n"
          ]
        }
      ],
      "source": [
        "best_model = grid_search.best_estimator_\n",
        "\n",
        "y_pred = best_model.predict(X_test_final)\n",
        "rmse = np.sqrt(mean_squared_error(y_test, y_pred))\n",
        "print(f\"RMSE: {rmse}\")"
      ]
    },
    {
      "cell_type": "code",
      "execution_count": 90,
      "metadata": {},
      "outputs": [],
      "source": [
        "y_pred = pd.DataFrame(y_pred, columns=[\"price\"], index=X_test.index)"
      ]
    },
    {
      "cell_type": "code",
      "execution_count": 89,
      "metadata": {},
      "outputs": [
        {
          "data": {
            "image/png": "[encoded data removed]",
            "text/plain": [
              "<Figure size 800x600 with 1 Axes>"
            ]
          },
          "metadata": {},
          "output_type": "display_data"
        }
      ],
      "source": [
        "plt.figure(figsize=(8,6))\n",
        "sns.scatterplot(x=y_test['price'], y=y_pred[\"price\"])\n",
        "plt.xlabel(\"Actual Price (Millions)\")\n",
        "plt.ylabel(\"Predicted Price (Millions)\")\n",
        "plt.title(\"Actual vs Predicted House Prices\")\n",
        "plt.grid(True)\n",
        "plt.plot([y_test.min(), y_test.max()], [y_test.min(), y_test.max()], 'r--')  # Ideal line\n",
        "plt.show()"
      ]
    },
    {
      "cell_type": "markdown",
      "metadata": {},
      "source": [
        "✅ Interpretation:\n",
        "If the points fall close to the red dashed line, the predictions are very accurate.\n",
        "\n",
        "The closer they are to the line, the lower the RMSE."
      ]
    },
    {
      "cell_type": "markdown",
      "metadata": {
        "id": "g0QwYMqTvbwm"
      },
      "source": [
        "#### **✅ Conclusion**<br>\n",
        "\n",
        "The linear regression model achieved a test RMSE of approximately **₦348,365**, meaning predictions were off by about **₦0.35 million** on average. Given that typical house prices are in the multi-million Naira range, this error is relatively modest.\n",
        "\n",
        "For comparison, the cross-validated RMSE during training was around **₦338,922**. The closeness of these values suggests the model **generalizes well** and is not overfitting.\n",
        "\n",
        "Overall, this model provides a solid **baseline** — it’s accurate, interpretable, and fully reproducible. Future improvements could involve trying **non-linear models** or engineering additional features to further reduce prediction error.\n"
      ]
    }
  ],
  "metadata": {
    "colab": {
      "provenance": []
    },
    "kernelspec": {
      "display_name": "Python 3.10.0 64-bit ('3.10.0')",
      "language": "python",
      "name": "python3"
    },
    "language_info": {
      "codemirror_mode": {
        "name": "ipython",
        "version": 3
      },
      "file_extension": ".py",
      "mimetype": "text/x-python",
      "name": "python",
      "nbconvert_exporter": "python",
      "pygments_lexer": "ipython3",
      "version": "3.10.0"
    },
    "vscode": {
      "interpreter": {
        "hash": "e8b7178094adccc153d09aba56ffc6c5fa56be9da7299df78ef435b2cff38966"
      }
    }
  },
  "nbformat": 4,
  "nbformat_minor": 0
}
